{
  "nbformat": 4,
  "nbformat_minor": 0,
  "metadata": {
    "colab": {
      "provenance": [],
      "toc_visible": true,
      "authorship_tag": "ABX9TyNOY5VtRtPEXTsR40ycBlHF",
      "include_colab_link": true
    },
    "kernelspec": {
      "name": "python3",
      "display_name": "Python 3"
    },
    "language_info": {
      "name": "python"
    }
  },
  "cells": [
    {
      "cell_type": "markdown",
      "metadata": {
        "id": "view-in-github",
        "colab_type": "text"
      },
      "source": [
        "<a href=\"https://colab.research.google.com/github/Hamza-t/Language-Identification/blob/main/Data_validation.ipynb\" target=\"_parent\"><img src=\"https://colab.research.google.com/assets/colab-badge.svg\" alt=\"Open In Colab\"/></a>"
      ]
    },
    {
      "cell_type": "markdown",
      "source": [
        "#Hello!\n",
        "In this notebook, we will validate our dataset before modeling.\n",
        "\n",
        "The steps are \n",
        "1. Deep data cleaning :\n",
        "\n",
        "\n",
        "*   Clean text : URL, emojis, punctuation (?,:!..) , symbols, newlines and Tabs ... ✊\n",
        "*   Clean langages : validate language letters and convert numeric patterns to letters 🛑\n",
        "*   Stop words : removing or keeping ❎\n",
        "\n",
        "2. Data visualisation 🎨\n"
      ],
      "metadata": {
        "id": "9CWzQPCnVVcH"
      }
    },
    {
      "cell_type": "code",
      "execution_count": null,
      "metadata": {
        "id": "vGzn_-RCUjbt",
        "colab": {
          "base_uri": "https://localhost:8080/"
        },
        "outputId": "ef97c1e8-f443-486c-ff73-364e96a393d6"
      },
      "outputs": [
        {
          "output_type": "stream",
          "name": "stdout",
          "text": [
            "Drive already mounted at /content/drive; to attempt to forcibly remount, call drive.mount(\"/content/drive\", force_remount=True).\n"
          ]
        }
      ],
      "source": [
        "#Import data file \n",
        "#drive mount\n",
        "from google.colab import drive\n",
        "drive.mount('/content/drive')"
      ]
    },
    {
      "cell_type": "code",
      "source": [
        "#verify the path\n",
        "folder_path = \"/content/drive/MyDrive/My_work/NLP-Project-INSAT\"\n",
        "!ls \"/content/drive/MyDrive/My_work/NLP-Project-INSAT\""
      ],
      "metadata": {
        "colab": {
          "base_uri": "https://localhost:8080/"
        },
        "id": "DKmwq96CxjXs",
        "outputId": "a2256e74-502a-4b24-c392-77ac331ffd8d"
      },
      "execution_count": null,
      "outputs": [
        {
          "output_type": "stream",
          "name": "stdout",
          "text": [
            " cleaned_data.csv\t  'data collection '\t      final_data.csv\n",
            "'Data augmentation'\t   Data_Preparation.ipynb    'General Data'\n",
            " Data_Augmentation.ipynb   Data_validation.ipynb      prepared_data.csv\n",
            " Data_cleaning.ipynb\t   Data_visualization.ipynb\n"
          ]
        }
      ]
    },
    {
      "cell_type": "code",
      "source": [
        "##assign data path \n",
        "data_path = folder_path + \"/\" + \"final_data.csv\""
      ],
      "metadata": {
        "id": "lJfdwCezxpP1"
      },
      "execution_count": null,
      "outputs": []
    },
    {
      "cell_type": "code",
      "source": [
        "#read data\n",
        "import pandas as pd\n",
        "data = pd.read_csv(data_path)\n",
        "data = data[[\"text\",\"label\"]]\n",
        "data.head()"
      ],
      "metadata": {
        "colab": {
          "base_uri": "https://localhost:8080/",
          "height": 206
        },
        "id": "j8zuJahLxtlZ",
        "outputId": "4be422cf-8a9d-4724-cef1-9a76e035da9a"
      },
      "execution_count": null,
      "outputs": [
        {
          "output_type": "execute_result",
          "data": {
            "text/plain": [
              "                                                text  label\n",
              "0  ana fil ghorba w sout el athan ahla haja 3ijbi...      3\n",
              "1                           man eheb rasoule mohamed      3\n",
              "2                        rabi yerhmou sofiane cha3ri      3\n",
              "3     rabi yarahmak ya sbou3i wou yarham kol om mita      3\n",
              "4                              merci beaucoup salime      1"
            ],
            "text/html": [
              "\n",
              "  <div id=\"df-3a3c1fcb-7c1c-4c8c-b1bc-93661e42964f\">\n",
              "    <div class=\"colab-df-container\">\n",
              "      <div>\n",
              "<style scoped>\n",
              "    .dataframe tbody tr th:only-of-type {\n",
              "        vertical-align: middle;\n",
              "    }\n",
              "\n",
              "    .dataframe tbody tr th {\n",
              "        vertical-align: top;\n",
              "    }\n",
              "\n",
              "    .dataframe thead th {\n",
              "        text-align: right;\n",
              "    }\n",
              "</style>\n",
              "<table border=\"1\" class=\"dataframe\">\n",
              "  <thead>\n",
              "    <tr style=\"text-align: right;\">\n",
              "      <th></th>\n",
              "      <th>text</th>\n",
              "      <th>label</th>\n",
              "    </tr>\n",
              "  </thead>\n",
              "  <tbody>\n",
              "    <tr>\n",
              "      <th>0</th>\n",
              "      <td>ana fil ghorba w sout el athan ahla haja 3ijbi...</td>\n",
              "      <td>3</td>\n",
              "    </tr>\n",
              "    <tr>\n",
              "      <th>1</th>\n",
              "      <td>man eheb rasoule mohamed</td>\n",
              "      <td>3</td>\n",
              "    </tr>\n",
              "    <tr>\n",
              "      <th>2</th>\n",
              "      <td>rabi yerhmou sofiane cha3ri</td>\n",
              "      <td>3</td>\n",
              "    </tr>\n",
              "    <tr>\n",
              "      <th>3</th>\n",
              "      <td>rabi yarahmak ya sbou3i wou yarham kol om mita</td>\n",
              "      <td>3</td>\n",
              "    </tr>\n",
              "    <tr>\n",
              "      <th>4</th>\n",
              "      <td>merci beaucoup salime</td>\n",
              "      <td>1</td>\n",
              "    </tr>\n",
              "  </tbody>\n",
              "</table>\n",
              "</div>\n",
              "      <button class=\"colab-df-convert\" onclick=\"convertToInteractive('df-3a3c1fcb-7c1c-4c8c-b1bc-93661e42964f')\"\n",
              "              title=\"Convert this dataframe to an interactive table.\"\n",
              "              style=\"display:none;\">\n",
              "        \n",
              "  <svg xmlns=\"http://www.w3.org/2000/svg\" height=\"24px\"viewBox=\"0 0 24 24\"\n",
              "       width=\"24px\">\n",
              "    <path d=\"M0 0h24v24H0V0z\" fill=\"none\"/>\n",
              "    <path d=\"M18.56 5.44l.94 2.06.94-2.06 2.06-.94-2.06-.94-.94-2.06-.94 2.06-2.06.94zm-11 1L8.5 8.5l.94-2.06 2.06-.94-2.06-.94L8.5 2.5l-.94 2.06-2.06.94zm10 10l.94 2.06.94-2.06 2.06-.94-2.06-.94-.94-2.06-.94 2.06-2.06.94z\"/><path d=\"M17.41 7.96l-1.37-1.37c-.4-.4-.92-.59-1.43-.59-.52 0-1.04.2-1.43.59L10.3 9.45l-7.72 7.72c-.78.78-.78 2.05 0 2.83L4 21.41c.39.39.9.59 1.41.59.51 0 1.02-.2 1.41-.59l7.78-7.78 2.81-2.81c.8-.78.8-2.07 0-2.86zM5.41 20L4 18.59l7.72-7.72 1.47 1.35L5.41 20z\"/>\n",
              "  </svg>\n",
              "      </button>\n",
              "      \n",
              "  <style>\n",
              "    .colab-df-container {\n",
              "      display:flex;\n",
              "      flex-wrap:wrap;\n",
              "      gap: 12px;\n",
              "    }\n",
              "\n",
              "    .colab-df-convert {\n",
              "      background-color: #E8F0FE;\n",
              "      border: none;\n",
              "      border-radius: 50%;\n",
              "      cursor: pointer;\n",
              "      display: none;\n",
              "      fill: #1967D2;\n",
              "      height: 32px;\n",
              "      padding: 0 0 0 0;\n",
              "      width: 32px;\n",
              "    }\n",
              "\n",
              "    .colab-df-convert:hover {\n",
              "      background-color: #E2EBFA;\n",
              "      box-shadow: 0px 1px 2px rgba(60, 64, 67, 0.3), 0px 1px 3px 1px rgba(60, 64, 67, 0.15);\n",
              "      fill: #174EA6;\n",
              "    }\n",
              "\n",
              "    [theme=dark] .colab-df-convert {\n",
              "      background-color: #3B4455;\n",
              "      fill: #D2E3FC;\n",
              "    }\n",
              "\n",
              "    [theme=dark] .colab-df-convert:hover {\n",
              "      background-color: #434B5C;\n",
              "      box-shadow: 0px 1px 3px 1px rgba(0, 0, 0, 0.15);\n",
              "      filter: drop-shadow(0px 1px 2px rgba(0, 0, 0, 0.3));\n",
              "      fill: #FFFFFF;\n",
              "    }\n",
              "  </style>\n",
              "\n",
              "      <script>\n",
              "        const buttonEl =\n",
              "          document.querySelector('#df-3a3c1fcb-7c1c-4c8c-b1bc-93661e42964f button.colab-df-convert');\n",
              "        buttonEl.style.display =\n",
              "          google.colab.kernel.accessAllowed ? 'block' : 'none';\n",
              "\n",
              "        async function convertToInteractive(key) {\n",
              "          const element = document.querySelector('#df-3a3c1fcb-7c1c-4c8c-b1bc-93661e42964f');\n",
              "          const dataTable =\n",
              "            await google.colab.kernel.invokeFunction('convertToInteractive',\n",
              "                                                     [key], {});\n",
              "          if (!dataTable) return;\n",
              "\n",
              "          const docLinkHtml = 'Like what you see? Visit the ' +\n",
              "            '<a target=\"_blank\" href=https://colab.research.google.com/notebooks/data_table.ipynb>data table notebook</a>'\n",
              "            + ' to learn more about interactive tables.';\n",
              "          element.innerHTML = '';\n",
              "          dataTable['output_type'] = 'display_data';\n",
              "          await google.colab.output.renderOutput(dataTable, element);\n",
              "          const docLink = document.createElement('div');\n",
              "          docLink.innerHTML = docLinkHtml;\n",
              "          element.appendChild(docLink);\n",
              "        }\n",
              "      </script>\n",
              "    </div>\n",
              "  </div>\n",
              "  "
            ]
          },
          "metadata": {},
          "execution_count": 111
        }
      ]
    },
    {
      "cell_type": "code",
      "source": [],
      "metadata": {
        "id": "WdVuJS7bx39g"
      },
      "execution_count": null,
      "outputs": []
    },
    {
      "cell_type": "markdown",
      "source": [
        "##Deep Data Cleaning"
      ],
      "metadata": {
        "id": "_pZ2Puzhz8WU"
      }
    },
    {
      "cell_type": "markdown",
      "source": [
        "###1- Clean Text"
      ],
      "metadata": {
        "id": "MhAAEgAWWAZd"
      }
    },
    {
      "cell_type": "code",
      "source": [
        "#import library\n",
        "import re\n",
        "import string\n",
        "import unicodedata\n",
        "from itertools import groupby"
      ],
      "metadata": {
        "id": "5gRixM4o0Hp3"
      },
      "execution_count": null,
      "outputs": []
    },
    {
      "cell_type": "code",
      "source": [
        "data.dtypes"
      ],
      "metadata": {
        "colab": {
          "base_uri": "https://localhost:8080/"
        },
        "id": "MLw4-dRb0_FY",
        "outputId": "64cd46cb-4bd1-4e07-ed65-dda7e528e5a4"
      },
      "execution_count": null,
      "outputs": [
        {
          "output_type": "execute_result",
          "data": {
            "text/plain": [
              "text     object\n",
              "label     int64\n",
              "dtype: object"
            ]
          },
          "metadata": {},
          "execution_count": 113
        }
      ]
    },
    {
      "cell_type": "code",
      "source": [
        "#Change the text data to string and the label data to int \n",
        "data['text'] = data['text'].astype('str')"
      ],
      "metadata": {
        "id": "SrUjgb5C1MJk"
      },
      "execution_count": null,
      "outputs": []
    },
    {
      "cell_type": "code",
      "source": [
        "#remove emails\n",
        "def remove_emails(x):\n",
        "     return re.sub(r'([a-z0-9+._-]+@[a-z0-9+._-]+\\.[a-z0-9+_-]+)',\"\", x)\n",
        "\n",
        "#remove urls\n",
        "def remove_urls(x):\n",
        "    return re.sub(r'(http|https|ftp|ssh)://([\\w_-]+(?:(?:\\.[\\w_-]+)+))([\\w.,@?^=%&:/~+#-]*[\\w@?^=%&/~+#-])?', '' , x)\n",
        "\n",
        "#remove rt\n",
        "def remove_rt(x):\n",
        "    return re.sub(r'\\brt\\b', '', x).strip()"
      ],
      "metadata": {
        "id": "eGOc3cfM0TGo"
      },
      "execution_count": null,
      "outputs": []
    },
    {
      "cell_type": "code",
      "source": [
        "#remove punctuation\n",
        "def remove_special_chars(x):\n",
        "    x = re.sub(r'[^\\w ]+', \"\", x)\n",
        "    x = ' '.join(x.split())\n",
        "    return x\n",
        "\n",
        "#remove accented chars\n",
        "'''\n",
        "def remove_accented_chars(x):\n",
        "    x = unicodedata.normalize('NFKD', x).encode('ascii', 'ignore').decode('utf-8', 'ignore')\n",
        "    return x\n",
        "\n",
        "'''\n",
        "\n",
        "#remove extra space \n",
        "def remove_space(x):\n",
        "  return re.sub(' +', ' ', x)"
      ],
      "metadata": {
        "id": "rLMKy5yp0Wdr"
      },
      "execution_count": null,
      "outputs": []
    },
    {
      "cell_type": "code",
      "source": [
        "#lower text\n",
        "def lower_text(text):\n",
        "    return text.lower()"
      ],
      "metadata": {
        "id": "1WyoxRMN0Zxq"
      },
      "execution_count": null,
      "outputs": []
    },
    {
      "cell_type": "code",
      "source": [
        "data[\"text\"] = data.text.map(lower_text)\n",
        "data[\"text\"] = data.text.map(remove_urls)\n",
        "data[\"text\"] = data.text.map(remove_rt)\n",
        "data[\"text\"] = data.text.map(remove_emails)\n",
        "data[\"text\"] = data.text.map(remove_special_chars)\n",
        "data[\"text\"] = data.text.map(remove_space)"
      ],
      "metadata": {
        "id": "6zaS6efp0isC"
      },
      "execution_count": null,
      "outputs": []
    },
    {
      "cell_type": "code",
      "source": [],
      "metadata": {
        "id": "ZZK3ZBMP06cE"
      },
      "execution_count": null,
      "outputs": []
    },
    {
      "cell_type": "markdown",
      "source": [
        "###2- Clean langages \n",
        "* french langage  : Ã© = é, Ã§ = ç, Ã = à, Å“ = oe, Ãª = Ã¨ = è, others  = e\n",
        "* Tunizi/Code-switching :     \n",
        "Check this notebook :    \n",
        "https://github.com/faressoltani55/TunisianDialectSentimentAnalysis/blob/main/Tunisian_Dialect_Sentiment_Analysis_Model.ipynb"
      ],
      "metadata": {
        "id": "OWnIPcId1WR-"
      }
    },
    {
      "cell_type": "code",
      "source": [
        "#french langage : \n",
        "trans = {'Ã©' : 'é','Ã§' : 'ç', 'Ã' : 'à', 'Å“' : 'oe', 'Ãª':'è', 'Ã¨' : 'è', 'Ã¯':'y'}\n",
        "def translate_special(text):\n",
        "  text = text.replace(\"Ã©\", \"é\")\n",
        "  text = text.replace(\"Ã§\", \"ç\")\n",
        "  text = text.replace(\"Ãª\", \"è\")\n",
        "  text = text.replace(\"Å“\", \"oe\")\n",
        "  text = text.replace(\"Ã¨\", \"è\")\n",
        "  text = text.replace(\"Ã¯\", \"y\")\n",
        "  text = text.replace(\"Ã\", \"à\")\n",
        "  return text"
      ],
      "metadata": {
        "id": "xrznnUZ64O1-"
      },
      "execution_count": null,
      "outputs": []
    },
    {
      "cell_type": "code",
      "source": [
        "#using facebook chat : \n",
        "def convert_number(number):\n",
        "      if number == \"1\" or number == \"3\":\n",
        "        return \"a\"\n",
        "      elif number == \"2\":\n",
        "        return \"e\"\n",
        "      elif number == \"4\":\n",
        "        return \"dh\"\n",
        "      elif number == \"5\":\n",
        "        return \"kh\"\n",
        "      elif number == \"7\":\n",
        "        return \"h\"\n",
        "      elif number == \"8\":\n",
        "        return \"gh\"\n",
        "      elif number == \"9\":\n",
        "        return \"k\""
      ],
      "metadata": {
        "id": "DCOBZoEV8Ft8"
      },
      "execution_count": null,
      "outputs": []
    },
    {
      "cell_type": "code",
      "source": [
        "#Tunizi number \n",
        "def remove_number(text):\n",
        "  text  = list(text)\n",
        "  for i in range(len(text)-1):\n",
        "    if (text[i] in list(\"0987654321\")) and (text[i+1] in list(string.ascii_lowercase)):\n",
        "      text[i]  = convert_number(text[i])\n",
        "  \n",
        "  for i in range(1,len(text)):\n",
        "    if text[i] in  list(\"0987654321\") and (text[i-1] in list(string.ascii_lowercase)):\n",
        "      text[i]  = convert_number(text[i])\n",
        "  text  = [str(i) for i in text]\n",
        "  return \"\".join(text)"
      ],
      "metadata": {
        "id": "DUZ24Iox56VQ"
      },
      "execution_count": null,
      "outputs": []
    },
    {
      "cell_type": "code",
      "source": [
        "#apply to our text \n",
        "data[\"text\"] = data.text.map(translate_special)\n",
        "data[\"text\"] = data.text.map(remove_number)"
      ],
      "metadata": {
        "id": "acTUo1IjOr9g"
      },
      "execution_count": null,
      "outputs": []
    },
    {
      "cell_type": "markdown",
      "source": [
        "###3- Stop words\n",
        "* First, we will search a list of stop words of tunizi langage, or create it! "
      ],
      "metadata": {
        "id": "A8h9jaGaWDkf"
      }
    },
    {
      "cell_type": "markdown",
      "source": [
        "* What are the Stopwords in NLP?\n",
        "\n",
        "* What are stop words? 🤔 The words which are generally filtered out before processing a natural language are called stop words. These are actually the most common words in any language (like articles, prepositions, pronouns, conjunctions, etc) and does not add much information to the text\n",
        "\n",
        "* As we mentioned, the stopwords are a bags of words in a language, an intersted bag of words!\n",
        "* So we can't remove them if we will predict the langage of text \n",
        "* let's take an example:\n",
        "text  = \"Hamza is a clever person, mais he is stupid!\"\n",
        "* this text is a C-S text : english and french, if we remove the stopwords ( 'mais' is a french stopword) the text will be english langage! "
      ],
      "metadata": {
        "id": "NkYDrHchi223"
      }
    },
    {
      "cell_type": "code",
      "source": [],
      "metadata": {
        "id": "HEd2pHEuyuAV"
      },
      "execution_count": null,
      "outputs": []
    },
    {
      "cell_type": "code",
      "source": [],
      "metadata": {
        "id": "Jp1I5z8LyuIz"
      },
      "execution_count": null,
      "outputs": []
    },
    {
      "cell_type": "code",
      "source": [],
      "metadata": {
        "id": "JPpjBys1yuL3"
      },
      "execution_count": null,
      "outputs": []
    },
    {
      "cell_type": "code",
      "source": [],
      "metadata": {
        "id": "OL5041DUyuPb"
      },
      "execution_count": null,
      "outputs": []
    },
    {
      "cell_type": "markdown",
      "source": [
        "##Data visualisation 🎨"
      ],
      "metadata": {
        "id": "BIEFvg3NyknO"
      }
    },
    {
      "cell_type": "code",
      "source": [
        "data"
      ],
      "metadata": {
        "colab": {
          "base_uri": "https://localhost:8080/",
          "height": 424
        },
        "id": "cmTo_c9jUYOy",
        "outputId": "ba272b4e-7047-42be-c29f-bbeed265be7c"
      },
      "execution_count": null,
      "outputs": [
        {
          "output_type": "execute_result",
          "data": {
            "text/plain": [
              "                                                    text  label\n",
              "0      ana fil ghorba w sout el athan ahla haja aijbi...      3\n",
              "1                               man eheb rasoule mohamed      3\n",
              "2                            rabi yerhmou sofiane chaari      3\n",
              "3         rabi yarahmak ya sbouai wou yarham kol om mita      3\n",
              "4                                  merci beaucoup salime      1\n",
              "...                                                  ...    ...\n",
              "18615           ana aayech wala habibi je taime beaucoup      4\n",
              "18616                   aywa yaani fih kalam mashy arabi      4\n",
              "18617     il est 2ehNone0 maintenant et toi quoi de neuf      4\n",
              "18618  hey salam aalekum jaime bien ce style de jeans...      4\n",
              "18619                 ana aandek teaebtini wala maaarfch      4\n",
              "\n",
              "[18620 rows x 2 columns]"
            ],
            "text/html": [
              "\n",
              "  <div id=\"df-31c21e84-4b2b-4b06-8072-b0aee0d00b59\">\n",
              "    <div class=\"colab-df-container\">\n",
              "      <div>\n",
              "<style scoped>\n",
              "    .dataframe tbody tr th:only-of-type {\n",
              "        vertical-align: middle;\n",
              "    }\n",
              "\n",
              "    .dataframe tbody tr th {\n",
              "        vertical-align: top;\n",
              "    }\n",
              "\n",
              "    .dataframe thead th {\n",
              "        text-align: right;\n",
              "    }\n",
              "</style>\n",
              "<table border=\"1\" class=\"dataframe\">\n",
              "  <thead>\n",
              "    <tr style=\"text-align: right;\">\n",
              "      <th></th>\n",
              "      <th>text</th>\n",
              "      <th>label</th>\n",
              "    </tr>\n",
              "  </thead>\n",
              "  <tbody>\n",
              "    <tr>\n",
              "      <th>0</th>\n",
              "      <td>ana fil ghorba w sout el athan ahla haja aijbi...</td>\n",
              "      <td>3</td>\n",
              "    </tr>\n",
              "    <tr>\n",
              "      <th>1</th>\n",
              "      <td>man eheb rasoule mohamed</td>\n",
              "      <td>3</td>\n",
              "    </tr>\n",
              "    <tr>\n",
              "      <th>2</th>\n",
              "      <td>rabi yerhmou sofiane chaari</td>\n",
              "      <td>3</td>\n",
              "    </tr>\n",
              "    <tr>\n",
              "      <th>3</th>\n",
              "      <td>rabi yarahmak ya sbouai wou yarham kol om mita</td>\n",
              "      <td>3</td>\n",
              "    </tr>\n",
              "    <tr>\n",
              "      <th>4</th>\n",
              "      <td>merci beaucoup salime</td>\n",
              "      <td>1</td>\n",
              "    </tr>\n",
              "    <tr>\n",
              "      <th>...</th>\n",
              "      <td>...</td>\n",
              "      <td>...</td>\n",
              "    </tr>\n",
              "    <tr>\n",
              "      <th>18615</th>\n",
              "      <td>ana aayech wala habibi je taime beaucoup</td>\n",
              "      <td>4</td>\n",
              "    </tr>\n",
              "    <tr>\n",
              "      <th>18616</th>\n",
              "      <td>aywa yaani fih kalam mashy arabi</td>\n",
              "      <td>4</td>\n",
              "    </tr>\n",
              "    <tr>\n",
              "      <th>18617</th>\n",
              "      <td>il est 2ehNone0 maintenant et toi quoi de neuf</td>\n",
              "      <td>4</td>\n",
              "    </tr>\n",
              "    <tr>\n",
              "      <th>18618</th>\n",
              "      <td>hey salam aalekum jaime bien ce style de jeans...</td>\n",
              "      <td>4</td>\n",
              "    </tr>\n",
              "    <tr>\n",
              "      <th>18619</th>\n",
              "      <td>ana aandek teaebtini wala maaarfch</td>\n",
              "      <td>4</td>\n",
              "    </tr>\n",
              "  </tbody>\n",
              "</table>\n",
              "<p>18620 rows × 2 columns</p>\n",
              "</div>\n",
              "      <button class=\"colab-df-convert\" onclick=\"convertToInteractive('df-31c21e84-4b2b-4b06-8072-b0aee0d00b59')\"\n",
              "              title=\"Convert this dataframe to an interactive table.\"\n",
              "              style=\"display:none;\">\n",
              "        \n",
              "  <svg xmlns=\"http://www.w3.org/2000/svg\" height=\"24px\"viewBox=\"0 0 24 24\"\n",
              "       width=\"24px\">\n",
              "    <path d=\"M0 0h24v24H0V0z\" fill=\"none\"/>\n",
              "    <path d=\"M18.56 5.44l.94 2.06.94-2.06 2.06-.94-2.06-.94-.94-2.06-.94 2.06-2.06.94zm-11 1L8.5 8.5l.94-2.06 2.06-.94-2.06-.94L8.5 2.5l-.94 2.06-2.06.94zm10 10l.94 2.06.94-2.06 2.06-.94-2.06-.94-.94-2.06-.94 2.06-2.06.94z\"/><path d=\"M17.41 7.96l-1.37-1.37c-.4-.4-.92-.59-1.43-.59-.52 0-1.04.2-1.43.59L10.3 9.45l-7.72 7.72c-.78.78-.78 2.05 0 2.83L4 21.41c.39.39.9.59 1.41.59.51 0 1.02-.2 1.41-.59l7.78-7.78 2.81-2.81c.8-.78.8-2.07 0-2.86zM5.41 20L4 18.59l7.72-7.72 1.47 1.35L5.41 20z\"/>\n",
              "  </svg>\n",
              "      </button>\n",
              "      \n",
              "  <style>\n",
              "    .colab-df-container {\n",
              "      display:flex;\n",
              "      flex-wrap:wrap;\n",
              "      gap: 12px;\n",
              "    }\n",
              "\n",
              "    .colab-df-convert {\n",
              "      background-color: #E8F0FE;\n",
              "      border: none;\n",
              "      border-radius: 50%;\n",
              "      cursor: pointer;\n",
              "      display: none;\n",
              "      fill: #1967D2;\n",
              "      height: 32px;\n",
              "      padding: 0 0 0 0;\n",
              "      width: 32px;\n",
              "    }\n",
              "\n",
              "    .colab-df-convert:hover {\n",
              "      background-color: #E2EBFA;\n",
              "      box-shadow: 0px 1px 2px rgba(60, 64, 67, 0.3), 0px 1px 3px 1px rgba(60, 64, 67, 0.15);\n",
              "      fill: #174EA6;\n",
              "    }\n",
              "\n",
              "    [theme=dark] .colab-df-convert {\n",
              "      background-color: #3B4455;\n",
              "      fill: #D2E3FC;\n",
              "    }\n",
              "\n",
              "    [theme=dark] .colab-df-convert:hover {\n",
              "      background-color: #434B5C;\n",
              "      box-shadow: 0px 1px 3px 1px rgba(0, 0, 0, 0.15);\n",
              "      filter: drop-shadow(0px 1px 2px rgba(0, 0, 0, 0.3));\n",
              "      fill: #FFFFFF;\n",
              "    }\n",
              "  </style>\n",
              "\n",
              "      <script>\n",
              "        const buttonEl =\n",
              "          document.querySelector('#df-31c21e84-4b2b-4b06-8072-b0aee0d00b59 button.colab-df-convert');\n",
              "        buttonEl.style.display =\n",
              "          google.colab.kernel.accessAllowed ? 'block' : 'none';\n",
              "\n",
              "        async function convertToInteractive(key) {\n",
              "          const element = document.querySelector('#df-31c21e84-4b2b-4b06-8072-b0aee0d00b59');\n",
              "          const dataTable =\n",
              "            await google.colab.kernel.invokeFunction('convertToInteractive',\n",
              "                                                     [key], {});\n",
              "          if (!dataTable) return;\n",
              "\n",
              "          const docLinkHtml = 'Like what you see? Visit the ' +\n",
              "            '<a target=\"_blank\" href=https://colab.research.google.com/notebooks/data_table.ipynb>data table notebook</a>'\n",
              "            + ' to learn more about interactive tables.';\n",
              "          element.innerHTML = '';\n",
              "          dataTable['output_type'] = 'display_data';\n",
              "          await google.colab.output.renderOutput(dataTable, element);\n",
              "          const docLink = document.createElement('div');\n",
              "          docLink.innerHTML = docLinkHtml;\n",
              "          element.appendChild(docLink);\n",
              "        }\n",
              "      </script>\n",
              "    </div>\n",
              "  </div>\n",
              "  "
            ]
          },
          "metadata": {},
          "execution_count": 123
        }
      ]
    },
    {
      "cell_type": "code",
      "source": [
        "#Import library\n",
        "import matplotlib.pyplot as plt\n",
        "import seaborn as sns\n",
        "import plotly.graph_objects as go\n",
        "%matplotlib inline"
      ],
      "metadata": {
        "id": "z5TAVpzBxmmC"
      },
      "execution_count": null,
      "outputs": []
    },
    {
      "cell_type": "code",
      "source": [
        "#number of each class\n",
        "langage = {0:'Arabic', 1:'French', 2:'English', 3:'Tunizi', 4:'Code-switching'}\n",
        "length = []\n",
        "for i in langage.keys():\n",
        "  print(f\"the total number of {langage[i]} is {len(data[data['label']==i])}\")\n",
        "  length.append(len(data[data['label']==i]))"
      ],
      "metadata": {
        "colab": {
          "base_uri": "https://localhost:8080/"
        },
        "id": "TfBUJ9hGxzv1",
        "outputId": "c33f4e29-0a27-4535-92b8-0969ebc28932"
      },
      "execution_count": null,
      "outputs": [
        {
          "output_type": "stream",
          "name": "stdout",
          "text": [
            "the total number of Arabic is 4225\n",
            "the total number of French is 3873\n",
            "the total number of English is 3586\n",
            "the total number of Tunizi is 4398\n",
            "the total number of Code-switching is 2538\n"
          ]
        }
      ]
    },
    {
      "cell_type": "code",
      "source": [
        "#distribution\n",
        "sns.set(rc={'figure.figsize':(12,6)})\n",
        "#per_lang = final_scraped_data['labels'].value_counts()\n",
        "sns.barplot(x=list(langage.values()), y=length).set(title='Number of comment in each class')"
      ],
      "metadata": {
        "colab": {
          "base_uri": "https://localhost:8080/",
          "height": 410
        },
        "id": "9jV0B0s3x2Iy",
        "outputId": "e7eb497a-6161-4eb1-8bf0-2de75c289816"
      },
      "execution_count": null,
      "outputs": [
        {
          "output_type": "execute_result",
          "data": {
            "text/plain": [
              "[Text(0.5, 1.0, 'Number of comment in each class')]"
            ]
          },
          "metadata": {},
          "execution_count": 126
        },
        {
          "output_type": "display_data",
          "data": {
            "text/plain": [
              "<Figure size 864x432 with 1 Axes>"
            ],
            "image/png": "[encoded data removed]"
          },
          "metadata": {}
        }
      ]
    },
    {
      "cell_type": "markdown",
      "source": [
        "**Perfect!**"
      ],
      "metadata": {
        "id": "7Hsp9LRtyn39"
      }
    },
    {
      "cell_type": "code",
      "source": [
        "#save data to .csv file\n",
        "from pathlib import Path  \n",
        "filepath = Path('/content/drive/MyDrive/My_work/NLP-Project-INSAT/to_model_data.csv') \n",
        "data.to_csv(filepath)"
      ],
      "metadata": {
        "id": "eMwptvtvx4_b"
      },
      "execution_count": null,
      "outputs": []
    },
    {
      "cell_type": "code",
      "source": [],
      "metadata": {
        "id": "ucxQpiFnPGvp"
      },
      "execution_count": null,
      "outputs": []
    }
  ]
}