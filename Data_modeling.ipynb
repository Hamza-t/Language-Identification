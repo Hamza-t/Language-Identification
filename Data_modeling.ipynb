{
  "nbformat": 4,
  "nbformat_minor": 0,
  "metadata": {
    "colab": {
      "provenance": [],
      "authorship_tag": "ABX9TyMLMDNmzCyBRYXOEIezI0vB",
      "include_colab_link": true
    },
    "kernelspec": {
      "name": "python3",
      "display_name": "Python 3"
    },
    "language_info": {
      "name": "python"
    },
    "widgets": {
      "application/vnd.jupyter.widget-state+json": {
        "def043bec0274b3cbed3b1a2575c219a": {
          "model_module": "@jupyter-widgets/controls",
          "model_name": "HBoxModel",
          "model_module_version": "1.5.0",
          "state": {
            "_dom_classes": [],
            "_model_module": "@jupyter-widgets/controls",
            "_model_module_version": "1.5.0",
            "_model_name": "HBoxModel",
            "_view_count": null,
            "_view_module": "@jupyter-widgets/controls",
            "_view_module_version": "1.5.0",
            "_view_name": "HBoxView",
            "box_style": "",
            "children": [
              "IPY_MODEL_895d13ad5b4049e3b1b3d84852650821",
              "IPY_MODEL_3ecabfd9a0e04b3b8f5242b05ef256db",
              "IPY_MODEL_a36d57cc5a644198bfb4b2385a887df4"
            ],
            "layout": "IPY_MODEL_ff4ac2b227694527abdd5746113bb157"
          }
        },
        "895d13ad5b4049e3b1b3d84852650821": {
          "model_module": "@jupyter-widgets/controls",
          "model_name": "HTMLModel",
          "model_module_version": "1.5.0",
          "state": {
            "_dom_classes": [],
            "_model_module": "@jupyter-widgets/controls",
            "_model_module_version": "1.5.0",
            "_model_name": "HTMLModel",
            "_view_count": null,
            "_view_module": "@jupyter-widgets/controls",
            "_view_module_version": "1.5.0",
            "_view_name": "HTMLView",
            "description": "",
            "description_tooltip": null,
            "layout": "IPY_MODEL_601a6286c4984e14aacd8dffe6bb3be7",
            "placeholder": "​",
            "style": "IPY_MODEL_9276974d56604a4ab29af2aee4b5ec19",
            "value": "Downloading: 100%"
          }
        },
        "3ecabfd9a0e04b3b8f5242b05ef256db": {
          "model_module": "@jupyter-widgets/controls",
          "model_name": "FloatProgressModel",
          "model_module_version": "1.5.0",
          "state": {
            "_dom_classes": [],
            "_model_module": "@jupyter-widgets/controls",
            "_model_module_version": "1.5.0",
            "_model_name": "FloatProgressModel",
            "_view_count": null,
            "_view_module": "@jupyter-widgets/controls",
            "_view_module_version": "1.5.0",
            "_view_name": "ProgressView",
            "bar_style": "success",
            "description": "",
            "description_tooltip": null,
            "layout": "IPY_MODEL_4450ffa2c25b40f08fa503bbfe9cd619",
            "max": 28,
            "min": 0,
            "orientation": "horizontal",
            "style": "IPY_MODEL_9ca63a3caf8944c79e2a4eadd118c009",
            "value": 28
          }
        },
        "a36d57cc5a644198bfb4b2385a887df4": {
          "model_module": "@jupyter-widgets/controls",
          "model_name": "HTMLModel",
          "model_module_version": "1.5.0",
          "state": {
            "_dom_classes": [],
            "_model_module": "@jupyter-widgets/controls",
            "_model_module_version": "1.5.0",
            "_model_name": "HTMLModel",
            "_view_count": null,
            "_view_module": "@jupyter-widgets/controls",
            "_view_module_version": "1.5.0",
            "_view_name": "HTMLView",
            "description": "",
            "description_tooltip": null,
            "layout": "IPY_MODEL_2f66b5e6cafa46bf9bd6ab36a138e52d",
            "placeholder": "​",
            "style": "IPY_MODEL_faa4a5bf9388460e9b85239f0612f1cc",
            "value": " 28.0/28.0 [00:00&lt;00:00, 263B/s]"
          }
        },
        "ff4ac2b227694527abdd5746113bb157": {
          "model_module": "@jupyter-widgets/base",
          "model_name": "LayoutModel",
          "model_module_version": "1.2.0",
          "state": {
            "_model_module": "@jupyter-widgets/base",
            "_model_module_version": "1.2.0",
            "_model_name": "LayoutModel",
            "_view_count": null,
            "_view_module": "@jupyter-widgets/base",
            "_view_module_version": "1.2.0",
            "_view_name": "LayoutView",
            "align_content": null,
            "align_items": null,
            "align_self": null,
            "border": null,
            "bottom": null,
            "display": null,
            "flex": null,
            "flex_flow": null,
            "grid_area": null,
            "grid_auto_columns": null,
            "grid_auto_flow": null,
            "grid_auto_rows": null,
            "grid_column": null,
            "grid_gap": null,
            "grid_row": null,
            "grid_template_areas": null,
            "grid_template_columns": null,
            "grid_template_rows": null,
            "height": null,
            "justify_content": null,
            "justify_items": null,
            "left": null,
            "margin": null,
            "max_height": null,
            "max_width": null,
            "min_height": null,
            "min_width": null,
            "object_fit": null,
            "object_position": null,
            "order": null,
            "overflow": null,
            "overflow_x": null,
            "overflow_y": null,
            "padding": null,
            "right": null,
            "top": null,
            "visibility": null,
            "width": null
          }
        },
        "601a6286c4984e14aacd8dffe6bb3be7": {
          "model_module": "@jupyter-widgets/base",
          "model_name": "LayoutModel",
          "model_module_version": "1.2.0",
          "state": {
            "_model_module": "@jupyter-widgets/base",
            "_model_module_version": "1.2.0",
            "_model_name": "LayoutModel",
            "_view_count": null,
            "_view_module": "@jupyter-widgets/base",
            "_view_module_version": "1.2.0",
            "_view_name": "LayoutView",
            "align_content": null,
            "align_items": null,
            "align_self": null,
            "border": null,
            "bottom": null,
            "display": null,
            "flex": null,
            "flex_flow": null,
            "grid_area": null,
            "grid_auto_columns": null,
            "grid_auto_flow": null,
            "grid_auto_rows": null,
            "grid_column": null,
            "grid_gap": null,
            "grid_row": null,
            "grid_template_areas": null,
            "grid_template_columns": null,
            "grid_template_rows": null,
            "height": null,
            "justify_content": null,
            "justify_items": null,
            "left": null,
            "margin": null,
            "max_height": null,
            "max_width": null,
            "min_height": null,
            "min_width": null,
            "object_fit": null,
            "object_position": null,
            "order": null,
            "overflow": null,
            "overflow_x": null,
            "overflow_y": null,
            "padding": null,
            "right": null,
            "top": null,
            "visibility": null,
            "width": null
          }
        },
        "9276974d56604a4ab29af2aee4b5ec19": {
          "model_module": "@jupyter-widgets/controls",
          "model_name": "DescriptionStyleModel",
          "model_module_version": "1.5.0",
          "state": {
            "_model_module": "@jupyter-widgets/controls",
            "_model_module_version": "1.5.0",
            "_model_name": "DescriptionStyleModel",
            "_view_count": null,
            "_view_module": "@jupyter-widgets/base",
            "_view_module_version": "1.2.0",
            "_view_name": "StyleView",
            "description_width": ""
          }
        },
        "4450ffa2c25b40f08fa503bbfe9cd619": {
          "model_module": "@jupyter-widgets/base",
          "model_name": "LayoutModel",
          "model_module_version": "1.2.0",
          "state": {
            "_model_module": "@jupyter-widgets/base",
            "_model_module_version": "1.2.0",
            "_model_name": "LayoutModel",
            "_view_count": null,
            "_view_module": "@jupyter-widgets/base",
            "_view_module_version": "1.2.0",
            "_view_name": "LayoutView",
            "align_content": null,
            "align_items": null,
            "align_self": null,
            "border": null,
            "bottom": null,
            "display": null,
            "flex": null,
            "flex_flow": null,
            "grid_area": null,
            "grid_auto_columns": null,
            "grid_auto_flow": null,
            "grid_auto_rows": null,
            "grid_column": null,
            "grid_gap": null,
            "grid_row": null,
            "grid_template_areas": null,
            "grid_template_columns": null,
            "grid_template_rows": null,
            "height": null,
            "justify_content": null,
            "justify_items": null,
            "left": null,
            "margin": null,
            "max_height": null,
            "max_width": null,
            "min_height": null,
            "min_width": null,
            "object_fit": null,
            "object_position": null,
            "order": null,
            "overflow": null,
            "overflow_x": null,
            "overflow_y": null,
            "padding": null,
            "right": null,
            "top": null,
            "visibility": null,
            "width": null
          }
        },
        "9ca63a3caf8944c79e2a4eadd118c009": {
          "model_module": "@jupyter-widgets/controls",
          "model_name": "ProgressStyleModel",
          "model_module_version": "1.5.0",
          "state": {
            "_model_module": "@jupyter-widgets/controls",
            "_model_module_version": "1.5.0",
            "_model_name": "ProgressStyleModel",
            "_view_count": null,
            "_view_module": "@jupyter-widgets/base",
            "_view_module_version": "1.2.0",
            "_view_name": "StyleView",
            "bar_color": null,
            "description_width": ""
          }
        },
        "2f66b5e6cafa46bf9bd6ab36a138e52d": {
          "model_module": "@jupyter-widgets/base",
          "model_name": "LayoutModel",
          "model_module_version": "1.2.0",
          "state": {
            "_model_module": "@jupyter-widgets/base",
            "_model_module_version": "1.2.0",
            "_model_name": "LayoutModel",
            "_view_count": null,
            "_view_module": "@jupyter-widgets/base",
            "_view_module_version": "1.2.0",
            "_view_name": "LayoutView",
            "align_content": null,
            "align_items": null,
            "align_self": null,
            "border": null,
            "bottom": null,
            "display": null,
            "flex": null,
            "flex_flow": null,
            "grid_area": null,
            "grid_auto_columns": null,
            "grid_auto_flow": null,
            "grid_auto_rows": null,
            "grid_column": null,
            "grid_gap": null,
            "grid_row": null,
            "grid_template_areas": null,
            "grid_template_columns": null,
            "grid_template_rows": null,
            "height": null,
            "justify_content": null,
            "justify_items": null,
            "left": null,
            "margin": null,
            "max_height": null,
            "max_width": null,
            "min_height": null,
            "min_width": null,
            "object_fit": null,
            "object_position": null,
            "order": null,
            "overflow": null,
            "overflow_x": null,
            "overflow_y": null,
            "padding": null,
            "right": null,
            "top": null,
            "visibility": null,
            "width": null
          }
        },
        "faa4a5bf9388460e9b85239f0612f1cc": {
          "model_module": "@jupyter-widgets/controls",
          "model_name": "DescriptionStyleModel",
          "model_module_version": "1.5.0",
          "state": {
            "_model_module": "@jupyter-widgets/controls",
            "_model_module_version": "1.5.0",
            "_model_name": "DescriptionStyleModel",
            "_view_count": null,
            "_view_module": "@jupyter-widgets/base",
            "_view_module_version": "1.2.0",
            "_view_name": "StyleView",
            "description_width": ""
          }
        },
        "1ac77ce643a842dc87280b70f0614799": {
          "model_module": "@jupyter-widgets/controls",
          "model_name": "HBoxModel",
          "model_module_version": "1.5.0",
          "state": {
            "_dom_classes": [],
            "_model_module": "@jupyter-widgets/controls",
            "_model_module_version": "1.5.0",
            "_model_name": "HBoxModel",
            "_view_count": null,
            "_view_module": "@jupyter-widgets/controls",
            "_view_module_version": "1.5.0",
            "_view_name": "HBoxView",
            "box_style": "",
            "children": [
              "IPY_MODEL_3c114163140c4c17a6239640e63cdab8",
              "IPY_MODEL_38829b35efe1435a994bb4ff7dc22da7",
              "IPY_MODEL_e28fa3a47f4c43f9aad53dbf11cbb92f"
            ],
            "layout": "IPY_MODEL_5856d62393e5454198269ba07b979f41"
          }
        },
        "3c114163140c4c17a6239640e63cdab8": {
          "model_module": "@jupyter-widgets/controls",
          "model_name": "HTMLModel",
          "model_module_version": "1.5.0",
          "state": {
            "_dom_classes": [],
            "_model_module": "@jupyter-widgets/controls",
            "_model_module_version": "1.5.0",
            "_model_name": "HTMLModel",
            "_view_count": null,
            "_view_module": "@jupyter-widgets/controls",
            "_view_module_version": "1.5.0",
            "_view_name": "HTMLView",
            "description": "",
            "description_tooltip": null,
            "layout": "IPY_MODEL_283a639a198443d1bdf9ee71150fe2d6",
            "placeholder": "​",
            "style": "IPY_MODEL_a5ce06e6accf47fe90af998d73970d0e",
            "value": "Downloading: 100%"
          }
        },
        "38829b35efe1435a994bb4ff7dc22da7": {
          "model_module": "@jupyter-widgets/controls",
          "model_name": "FloatProgressModel",
          "model_module_version": "1.5.0",
          "state": {
            "_dom_classes": [],
            "_model_module": "@jupyter-widgets/controls",
            "_model_module_version": "1.5.0",
            "_model_name": "FloatProgressModel",
            "_view_count": null,
            "_view_module": "@jupyter-widgets/controls",
            "_view_module_version": "1.5.0",
            "_view_name": "ProgressView",
            "bar_style": "success",
            "description": "",
            "description_tooltip": null,
            "layout": "IPY_MODEL_153f3b815f0d4f3ca48ba372abae23b3",
            "max": 483,
            "min": 0,
            "orientation": "horizontal",
            "style": "IPY_MODEL_dca4004c83304896af2abc743a32834d",
            "value": 483
          }
        },
        "e28fa3a47f4c43f9aad53dbf11cbb92f": {
          "model_module": "@jupyter-widgets/controls",
          "model_name": "HTMLModel",
          "model_module_version": "1.5.0",
          "state": {
            "_dom_classes": [],
            "_model_module": "@jupyter-widgets/controls",
            "_model_module_version": "1.5.0",
            "_model_name": "HTMLModel",
            "_view_count": null,
            "_view_module": "@jupyter-widgets/controls",
            "_view_module_version": "1.5.0",
            "_view_name": "HTMLView",
            "description": "",
            "description_tooltip": null,
            "layout": "IPY_MODEL_6c590f96f4b74d1da3d67c805a6be049",
            "placeholder": "​",
            "style": "IPY_MODEL_30631d3853984779b30f9fa41f0e3e3f",
            "value": " 483/483 [00:00&lt;00:00, 6.37kB/s]"
          }
        },
        "5856d62393e5454198269ba07b979f41": {
          "model_module": "@jupyter-widgets/base",
          "model_name": "LayoutModel",
          "model_module_version": "1.2.0",
          "state": {
            "_model_module": "@jupyter-widgets/base",
            "_model_module_version": "1.2.0",
            "_model_name": "LayoutModel",
            "_view_count": null,
            "_view_module": "@jupyter-widgets/base",
            "_view_module_version": "1.2.0",
            "_view_name": "LayoutView",
            "align_content": null,
            "align_items": null,
            "align_self": null,
            "border": null,
            "bottom": null,
            "display": null,
            "flex": null,
            "flex_flow": null,
            "grid_area": null,
            "grid_auto_columns": null,
            "grid_auto_flow": null,
            "grid_auto_rows": null,
            "grid_column": null,
            "grid_gap": null,
            "grid_row": null,
            "grid_template_areas": null,
            "grid_template_columns": null,
            "grid_template_rows": null,
            "height": null,
            "justify_content": null,
            "justify_items": null,
            "left": null,
            "margin": null,
            "max_height": null,
            "max_width": null,
            "min_height": null,
            "min_width": null,
            "object_fit": null,
            "object_position": null,
            "order": null,
            "overflow": null,
            "overflow_x": null,
            "overflow_y": null,
            "padding": null,
            "right": null,
            "top": null,
            "visibility": null,
            "width": null
          }
        },
        "283a639a198443d1bdf9ee71150fe2d6": {
          "model_module": "@jupyter-widgets/base",
          "model_name": "LayoutModel",
          "model_module_version": "1.2.0",
          "state": {
            "_model_module": "@jupyter-widgets/base",
            "_model_module_version": "1.2.0",
            "_model_name": "LayoutModel",
            "_view_count": null,
            "_view_module": "@jupyter-widgets/base",
            "_view_module_version": "1.2.0",
            "_view_name": "LayoutView",
            "align_content": null,
            "align_items": null,
            "align_self": null,
            "border": null,
            "bottom": null,
            "display": null,
            "flex": null,
            "flex_flow": null,
            "grid_area": null,
            "grid_auto_columns": null,
            "grid_auto_flow": null,
            "grid_auto_rows": null,
            "grid_column": null,
            "grid_gap": null,
            "grid_row": null,
            "grid_template_areas": null,
            "grid_template_columns": null,
            "grid_template_rows": null,
            "height": null,
            "justify_content": null,
            "justify_items": null,
            "left": null,
            "margin": null,
            "max_height": null,
            "max_width": null,
            "min_height": null,
            "min_width": null,
            "object_fit": null,
            "object_position": null,
            "order": null,
            "overflow": null,
            "overflow_x": null,
            "overflow_y": null,
            "padding": null,
            "right": null,
            "top": null,
            "visibility": null,
            "width": null
          }
        },
        "a5ce06e6accf47fe90af998d73970d0e": {
          "model_module": "@jupyter-widgets/controls",
          "model_name": "DescriptionStyleModel",
          "model_module_version": "1.5.0",
          "state": {
            "_model_module": "@jupyter-widgets/controls",
            "_model_module_version": "1.5.0",
            "_model_name": "DescriptionStyleModel",
            "_view_count": null,
            "_view_module": "@jupyter-widgets/base",
            "_view_module_version": "1.2.0",
            "_view_name": "StyleView",
            "description_width": ""
          }
        },
        "153f3b815f0d4f3ca48ba372abae23b3": {
          "model_module": "@jupyter-widgets/base",
          "model_name": "LayoutModel",
          "model_module_version": "1.2.0",
          "state": {
            "_model_module": "@jupyter-widgets/base",
            "_model_module_version": "1.2.0",
            "_model_name": "LayoutModel",
            "_view_count": null,
            "_view_module": "@jupyter-widgets/base",
            "_view_module_version": "1.2.0",
            "_view_name": "LayoutView",
            "align_content": null,
            "align_items": null,
            "align_self": null,
            "border": null,
            "bottom": null,
            "display": null,
            "flex": null,
            "flex_flow": null,
            "grid_area": null,
            "grid_auto_columns": null,
            "grid_auto_flow": null,
            "grid_auto_rows": null,
            "grid_column": null,
            "grid_gap": null,
            "grid_row": null,
            "grid_template_areas": null,
            "grid_template_columns": null,
            "grid_template_rows": null,
            "height": null,
            "justify_content": null,
            "justify_items": null,
            "left": null,
            "margin": null,
            "max_height": null,
            "max_width": null,
            "min_height": null,
            "min_width": null,
            "object_fit": null,
            "object_position": null,
            "order": null,
            "overflow": null,
            "overflow_x": null,
            "overflow_y": null,
            "padding": null,
            "right": null,
            "top": null,
            "visibility": null,
            "width": null
          }
        },
        "dca4004c83304896af2abc743a32834d": {
          "model_module": "@jupyter-widgets/controls",
          "model_name": "ProgressStyleModel",
          "model_module_version": "1.5.0",
          "state": {
            "_model_module": "@jupyter-widgets/controls",
            "_model_module_version": "1.5.0",
            "_model_name": "ProgressStyleModel",
            "_view_count": null,
            "_view_module": "@jupyter-widgets/base",
            "_view_module_version": "1.2.0",
            "_view_name": "StyleView",
            "bar_color": null,
            "description_width": ""
          }
        },
        "6c590f96f4b74d1da3d67c805a6be049": {
          "model_module": "@jupyter-widgets/base",
          "model_name": "LayoutModel",
          "model_module_version": "1.2.0",
          "state": {
            "_model_module": "@jupyter-widgets/base",
            "_model_module_version": "1.2.0",
            "_model_name": "LayoutModel",
            "_view_count": null,
            "_view_module": "@jupyter-widgets/base",
            "_view_module_version": "1.2.0",
            "_view_name": "LayoutView",
            "align_content": null,
            "align_items": null,
            "align_self": null,
            "border": null,
            "bottom": null,
            "display": null,
            "flex": null,
            "flex_flow": null,
            "grid_area": null,
            "grid_auto_columns": null,
            "grid_auto_flow": null,
            "grid_auto_rows": null,
            "grid_column": null,
            "grid_gap": null,
            "grid_row": null,
            "grid_template_areas": null,
            "grid_template_columns": null,
            "grid_template_rows": null,
            "height": null,
            "justify_content": null,
            "justify_items": null,
            "left": null,
            "margin": null,
            "max_height": null,
            "max_width": null,
            "min_height": null,
            "min_width": null,
            "object_fit": null,
            "object_position": null,
            "order": null,
            "overflow": null,
            "overflow_x": null,
            "overflow_y": null,
            "padding": null,
            "right": null,
            "top": null,
            "visibility": null,
            "width": null
          }
        },
        "30631d3853984779b30f9fa41f0e3e3f": {
          "model_module": "@jupyter-widgets/controls",
          "model_name": "DescriptionStyleModel",
          "model_module_version": "1.5.0",
          "state": {
            "_model_module": "@jupyter-widgets/controls",
            "_model_module_version": "1.5.0",
            "_model_name": "DescriptionStyleModel",
            "_view_count": null,
            "_view_module": "@jupyter-widgets/base",
            "_view_module_version": "1.2.0",
            "_view_name": "StyleView",
            "description_width": ""
          }
        },
        "1c51cbec2f514fb99ac9c955bdc4bc70": {
          "model_module": "@jupyter-widgets/controls",
          "model_name": "HBoxModel",
          "model_module_version": "1.5.0",
          "state": {
            "_dom_classes": [],
            "_model_module": "@jupyter-widgets/controls",
            "_model_module_version": "1.5.0",
            "_model_name": "HBoxModel",
            "_view_count": null,
            "_view_module": "@jupyter-widgets/controls",
            "_view_module_version": "1.5.0",
            "_view_name": "HBoxView",
            "box_style": "",
            "children": [
              "IPY_MODEL_94bbc0b1fff8476ca53cc5122dc86ce3",
              "IPY_MODEL_bd78e1b3203743589e7de211bedecf87",
              "IPY_MODEL_d8c320c4c56541cfbd5f9aaf21b0c568"
            ],
            "layout": "IPY_MODEL_474ea0a9301a449f9ba33ee1a9775c9d"
          }
        },
        "94bbc0b1fff8476ca53cc5122dc86ce3": {
          "model_module": "@jupyter-widgets/controls",
          "model_name": "HTMLModel",
          "model_module_version": "1.5.0",
          "state": {
            "_dom_classes": [],
            "_model_module": "@jupyter-widgets/controls",
            "_model_module_version": "1.5.0",
            "_model_name": "HTMLModel",
            "_view_count": null,
            "_view_module": "@jupyter-widgets/controls",
            "_view_module_version": "1.5.0",
            "_view_name": "HTMLView",
            "description": "",
            "description_tooltip": null,
            "layout": "IPY_MODEL_e27c21c68d044b3698de08b16d5cfdfc",
            "placeholder": "​",
            "style": "IPY_MODEL_d10f5e86545241f79947bc110dfcd124",
            "value": "Downloading: 100%"
          }
        },
        "bd78e1b3203743589e7de211bedecf87": {
          "model_module": "@jupyter-widgets/controls",
          "model_name": "FloatProgressModel",
          "model_module_version": "1.5.0",
          "state": {
            "_dom_classes": [],
            "_model_module": "@jupyter-widgets/controls",
            "_model_module_version": "1.5.0",
            "_model_name": "FloatProgressModel",
            "_view_count": null,
            "_view_module": "@jupyter-widgets/controls",
            "_view_module_version": "1.5.0",
            "_view_name": "ProgressView",
            "bar_style": "success",
            "description": "",
            "description_tooltip": null,
            "layout": "IPY_MODEL_345b54b5372842ae998a4003f804ade6",
            "max": 231508,
            "min": 0,
            "orientation": "horizontal",
            "style": "IPY_MODEL_2f649c630d0444b4b8642e12da814edf",
            "value": 231508
          }
        },
        "d8c320c4c56541cfbd5f9aaf21b0c568": {
          "model_module": "@jupyter-widgets/controls",
          "model_name": "HTMLModel",
          "model_module_version": "1.5.0",
          "state": {
            "_dom_classes": [],
            "_model_module": "@jupyter-widgets/controls",
            "_model_module_version": "1.5.0",
            "_model_name": "HTMLModel",
            "_view_count": null,
            "_view_module": "@jupyter-widgets/controls",
            "_view_module_version": "1.5.0",
            "_view_name": "HTMLView",
            "description": "",
            "description_tooltip": null,
            "layout": "IPY_MODEL_f298d378937c418896c4cadd8cdd7ac7",
            "placeholder": "​",
            "style": "IPY_MODEL_2dd5a0639de049428d402b54a61b99c6",
            "value": " 232k/232k [00:00&lt;00:00, 1.06MB/s]"
          }
        },
        "474ea0a9301a449f9ba33ee1a9775c9d": {
          "model_module": "@jupyter-widgets/base",
          "model_name": "LayoutModel",
          "model_module_version": "1.2.0",
          "state": {
            "_model_module": "@jupyter-widgets/base",
            "_model_module_version": "1.2.0",
            "_model_name": "LayoutModel",
            "_view_count": null,
            "_view_module": "@jupyter-widgets/base",
            "_view_module_version": "1.2.0",
            "_view_name": "LayoutView",
            "align_content": null,
            "align_items": null,
            "align_self": null,
            "border": null,
            "bottom": null,
            "display": null,
            "flex": null,
            "flex_flow": null,
            "grid_area": null,
            "grid_auto_columns": null,
            "grid_auto_flow": null,
            "grid_auto_rows": null,
            "grid_column": null,
            "grid_gap": null,
            "grid_row": null,
            "grid_template_areas": null,
            "grid_template_columns": null,
            "grid_template_rows": null,
            "height": null,
            "justify_content": null,
            "justify_items": null,
            "left": null,
            "margin": null,
            "max_height": null,
            "max_width": null,
            "min_height": null,
            "min_width": null,
            "object_fit": null,
            "object_position": null,
            "order": null,
            "overflow": null,
            "overflow_x": null,
            "overflow_y": null,
            "padding": null,
            "right": null,
            "top": null,
            "visibility": null,
            "width": null
          }
        },
        "e27c21c68d044b3698de08b16d5cfdfc": {
          "model_module": "@jupyter-widgets/base",
          "model_name": "LayoutModel",
          "model_module_version": "1.2.0",
          "state": {
            "_model_module": "@jupyter-widgets/base",
            "_model_module_version": "1.2.0",
            "_model_name": "LayoutModel",
            "_view_count": null,
            "_view_module": "@jupyter-widgets/base",
            "_view_module_version": "1.2.0",
            "_view_name": "LayoutView",
            "align_content": null,
            "align_items": null,
            "align_self": null,
            "border": null,
            "bottom": null,
            "display": null,
            "flex": null,
            "flex_flow": null,
            "grid_area": null,
            "grid_auto_columns": null,
            "grid_auto_flow": null,
            "grid_auto_rows": null,
            "grid_column": null,
            "grid_gap": null,
            "grid_row": null,
            "grid_template_areas": null,
            "grid_template_columns": null,
            "grid_template_rows": null,
            "height": null,
            "justify_content": null,
            "justify_items": null,
            "left": null,
            "margin": null,
            "max_height": null,
            "max_width": null,
            "min_height": null,
            "min_width": null,
            "object_fit": null,
            "object_position": null,
            "order": null,
            "overflow": null,
            "overflow_x": null,
            "overflow_y": null,
            "padding": null,
            "right": null,
            "top": null,
            "visibility": null,
            "width": null
          }
        },
        "d10f5e86545241f79947bc110dfcd124": {
          "model_module": "@jupyter-widgets/controls",
          "model_name": "DescriptionStyleModel",
          "model_module_version": "1.5.0",
          "state": {
            "_model_module": "@jupyter-widgets/controls",
            "_model_module_version": "1.5.0",
            "_model_name": "DescriptionStyleModel",
            "_view_count": null,
            "_view_module": "@jupyter-widgets/base",
            "_view_module_version": "1.2.0",
            "_view_name": "StyleView",
            "description_width": ""
          }
        },
        "345b54b5372842ae998a4003f804ade6": {
          "model_module": "@jupyter-widgets/base",
          "model_name": "LayoutModel",
          "model_module_version": "1.2.0",
          "state": {
            "_model_module": "@jupyter-widgets/base",
            "_model_module_version": "1.2.0",
            "_model_name": "LayoutModel",
            "_view_count": null,
            "_view_module": "@jupyter-widgets/base",
            "_view_module_version": "1.2.0",
            "_view_name": "LayoutView",
            "align_content": null,
            "align_items": null,
            "align_self": null,
            "border": null,
            "bottom": null,
            "display": null,
            "flex": null,
            "flex_flow": null,
            "grid_area": null,
            "grid_auto_columns": null,
            "grid_auto_flow": null,
            "grid_auto_rows": null,
            "grid_column": null,
            "grid_gap": null,
            "grid_row": null,
            "grid_template_areas": null,
            "grid_template_columns": null,
            "grid_template_rows": null,
            "height": null,
            "justify_content": null,
            "justify_items": null,
            "left": null,
            "margin": null,
            "max_height": null,
            "max_width": null,
            "min_height": null,
            "min_width": null,
            "object_fit": null,
            "object_position": null,
            "order": null,
            "overflow": null,
            "overflow_x": null,
            "overflow_y": null,
            "padding": null,
            "right": null,
            "top": null,
            "visibility": null,
            "width": null
          }
        },
        "2f649c630d0444b4b8642e12da814edf": {
          "model_module": "@jupyter-widgets/controls",
          "model_name": "ProgressStyleModel",
          "model_module_version": "1.5.0",
          "state": {
            "_model_module": "@jupyter-widgets/controls",
            "_model_module_version": "1.5.0",
            "_model_name": "ProgressStyleModel",
            "_view_count": null,
            "_view_module": "@jupyter-widgets/base",
            "_view_module_version": "1.2.0",
            "_view_name": "StyleView",
            "bar_color": null,
            "description_width": ""
          }
        },
        "f298d378937c418896c4cadd8cdd7ac7": {
          "model_module": "@jupyter-widgets/base",
          "model_name": "LayoutModel",
          "model_module_version": "1.2.0",
          "state": {
            "_model_module": "@jupyter-widgets/base",
            "_model_module_version": "1.2.0",
            "_model_name": "LayoutModel",
            "_view_count": null,
            "_view_module": "@jupyter-widgets/base",
            "_view_module_version": "1.2.0",
            "_view_name": "LayoutView",
            "align_content": null,
            "align_items": null,
            "align_self": null,
            "border": null,
            "bottom": null,
            "display": null,
            "flex": null,
            "flex_flow": null,
            "grid_area": null,
            "grid_auto_columns": null,
            "grid_auto_flow": null,
            "grid_auto_rows": null,
            "grid_column": null,
            "grid_gap": null,
            "grid_row": null,
            "grid_template_areas": null,
            "grid_template_columns": null,
            "grid_template_rows": null,
            "height": null,
            "justify_content": null,
            "justify_items": null,
            "left": null,
            "margin": null,
            "max_height": null,
            "max_width": null,
            "min_height": null,
            "min_width": null,
            "object_fit": null,
            "object_position": null,
            "order": null,
            "overflow": null,
            "overflow_x": null,
            "overflow_y": null,
            "padding": null,
            "right": null,
            "top": null,
            "visibility": null,
            "width": null
          }
        },
        "2dd5a0639de049428d402b54a61b99c6": {
          "model_module": "@jupyter-widgets/controls",
          "model_name": "DescriptionStyleModel",
          "model_module_version": "1.5.0",
          "state": {
            "_model_module": "@jupyter-widgets/controls",
            "_model_module_version": "1.5.0",
            "_model_name": "DescriptionStyleModel",
            "_view_count": null,
            "_view_module": "@jupyter-widgets/base",
            "_view_module_version": "1.2.0",
            "_view_name": "StyleView",
            "description_width": ""
          }
        },
        "c5ebcb290e8749fb95dd9d0dcdbe1066": {
          "model_module": "@jupyter-widgets/controls",
          "model_name": "HBoxModel",
          "model_module_version": "1.5.0",
          "state": {
            "_dom_classes": [],
            "_model_module": "@jupyter-widgets/controls",
            "_model_module_version": "1.5.0",
            "_model_name": "HBoxModel",
            "_view_count": null,
            "_view_module": "@jupyter-widgets/controls",
            "_view_module_version": "1.5.0",
            "_view_name": "HBoxView",
            "box_style": "",
            "children": [
              "IPY_MODEL_0929a71ce2034337be57c7238fa08ffe",
              "IPY_MODEL_2c7bc1bdd89047c8a6d6090232cfcf72",
              "IPY_MODEL_454f1b850c914337b6fb4d7a5a99af0e"
            ],
            "layout": "IPY_MODEL_d4cef1d536fe462b9d171b6013e5a9f3"
          }
        },
        "0929a71ce2034337be57c7238fa08ffe": {
          "model_module": "@jupyter-widgets/controls",
          "model_name": "HTMLModel",
          "model_module_version": "1.5.0",
          "state": {
            "_dom_classes": [],
            "_model_module": "@jupyter-widgets/controls",
            "_model_module_version": "1.5.0",
            "_model_name": "HTMLModel",
            "_view_count": null,
            "_view_module": "@jupyter-widgets/controls",
            "_view_module_version": "1.5.0",
            "_view_name": "HTMLView",
            "description": "",
            "description_tooltip": null,
            "layout": "IPY_MODEL_5c987ceeae534809a7414d04f89f00f1",
            "placeholder": "​",
            "style": "IPY_MODEL_97f8ac15684a4b328e3458c7d3cd886e",
            "value": "Downloading: 100%"
          }
        },
        "2c7bc1bdd89047c8a6d6090232cfcf72": {
          "model_module": "@jupyter-widgets/controls",
          "model_name": "FloatProgressModel",
          "model_module_version": "1.5.0",
          "state": {
            "_dom_classes": [],
            "_model_module": "@jupyter-widgets/controls",
            "_model_module_version": "1.5.0",
            "_model_name": "FloatProgressModel",
            "_view_count": null,
            "_view_module": "@jupyter-widgets/controls",
            "_view_module_version": "1.5.0",
            "_view_name": "ProgressView",
            "bar_style": "success",
            "description": "",
            "description_tooltip": null,
            "layout": "IPY_MODEL_58b747fc13fd4e0b94ef8df59368f366",
            "max": 466062,
            "min": 0,
            "orientation": "horizontal",
            "style": "IPY_MODEL_24e2c87ccabf497d8381aa8e519aa139",
            "value": 466062
          }
        },
        "454f1b850c914337b6fb4d7a5a99af0e": {
          "model_module": "@jupyter-widgets/controls",
          "model_name": "HTMLModel",
          "model_module_version": "1.5.0",
          "state": {
            "_dom_classes": [],
            "_model_module": "@jupyter-widgets/controls",
            "_model_module_version": "1.5.0",
            "_model_name": "HTMLModel",
            "_view_count": null,
            "_view_module": "@jupyter-widgets/controls",
            "_view_module_version": "1.5.0",
            "_view_name": "HTMLView",
            "description": "",
            "description_tooltip": null,
            "layout": "IPY_MODEL_ec54c0e848244edc8041e67f2d839a76",
            "placeholder": "​",
            "style": "IPY_MODEL_37ac3288e5fd42218495fb63f62b1bba",
            "value": " 466k/466k [00:00&lt;00:00, 2.57MB/s]"
          }
        },
        "d4cef1d536fe462b9d171b6013e5a9f3": {
          "model_module": "@jupyter-widgets/base",
          "model_name": "LayoutModel",
          "model_module_version": "1.2.0",
          "state": {
            "_model_module": "@jupyter-widgets/base",
            "_model_module_version": "1.2.0",
            "_model_name": "LayoutModel",
            "_view_count": null,
            "_view_module": "@jupyter-widgets/base",
            "_view_module_version": "1.2.0",
            "_view_name": "LayoutView",
            "align_content": null,
            "align_items": null,
            "align_self": null,
            "border": null,
            "bottom": null,
            "display": null,
            "flex": null,
            "flex_flow": null,
            "grid_area": null,
            "grid_auto_columns": null,
            "grid_auto_flow": null,
            "grid_auto_rows": null,
            "grid_column": null,
            "grid_gap": null,
            "grid_row": null,
            "grid_template_areas": null,
            "grid_template_columns": null,
            "grid_template_rows": null,
            "height": null,
            "justify_content": null,
            "justify_items": null,
            "left": null,
            "margin": null,
            "max_height": null,
            "max_width": null,
            "min_height": null,
            "min_width": null,
            "object_fit": null,
            "object_position": null,
            "order": null,
            "overflow": null,
            "overflow_x": null,
            "overflow_y": null,
            "padding": null,
            "right": null,
            "top": null,
            "visibility": null,
            "width": null
          }
        },
        "5c987ceeae534809a7414d04f89f00f1": {
          "model_module": "@jupyter-widgets/base",
          "model_name": "LayoutModel",
          "model_module_version": "1.2.0",
          "state": {
            "_model_module": "@jupyter-widgets/base",
            "_model_module_version": "1.2.0",
            "_model_name": "LayoutModel",
            "_view_count": null,
            "_view_module": "@jupyter-widgets/base",
            "_view_module_version": "1.2.0",
            "_view_name": "LayoutView",
            "align_content": null,
            "align_items": null,
            "align_self": null,
            "border": null,
            "bottom": null,
            "display": null,
            "flex": null,
            "flex_flow": null,
            "grid_area": null,
            "grid_auto_columns": null,
            "grid_auto_flow": null,
            "grid_auto_rows": null,
            "grid_column": null,
            "grid_gap": null,
            "grid_row": null,
            "grid_template_areas": null,
            "grid_template_columns": null,
            "grid_template_rows": null,
            "height": null,
            "justify_content": null,
            "justify_items": null,
            "left": null,
            "margin": null,
            "max_height": null,
            "max_width": null,
            "min_height": null,
            "min_width": null,
            "object_fit": null,
            "object_position": null,
            "order": null,
            "overflow": null,
            "overflow_x": null,
            "overflow_y": null,
            "padding": null,
            "right": null,
            "top": null,
            "visibility": null,
            "width": null
          }
        },
        "97f8ac15684a4b328e3458c7d3cd886e": {
          "model_module": "@jupyter-widgets/controls",
          "model_name": "DescriptionStyleModel",
          "model_module_version": "1.5.0",
          "state": {
            "_model_module": "@jupyter-widgets/controls",
            "_model_module_version": "1.5.0",
            "_model_name": "DescriptionStyleModel",
            "_view_count": null,
            "_view_module": "@jupyter-widgets/base",
            "_view_module_version": "1.2.0",
            "_view_name": "StyleView",
            "description_width": ""
          }
        },
        "58b747fc13fd4e0b94ef8df59368f366": {
          "model_module": "@jupyter-widgets/base",
          "model_name": "LayoutModel",
          "model_module_version": "1.2.0",
          "state": {
            "_model_module": "@jupyter-widgets/base",
            "_model_module_version": "1.2.0",
            "_model_name": "LayoutModel",
            "_view_count": null,
            "_view_module": "@jupyter-widgets/base",
            "_view_module_version": "1.2.0",
            "_view_name": "LayoutView",
            "align_content": null,
            "align_items": null,
            "align_self": null,
            "border": null,
            "bottom": null,
            "display": null,
            "flex": null,
            "flex_flow": null,
            "grid_area": null,
            "grid_auto_columns": null,
            "grid_auto_flow": null,
            "grid_auto_rows": null,
            "grid_column": null,
            "grid_gap": null,
            "grid_row": null,
            "grid_template_areas": null,
            "grid_template_columns": null,
            "grid_template_rows": null,
            "height": null,
            "justify_content": null,
            "justify_items": null,
            "left": null,
            "margin": null,
            "max_height": null,
            "max_width": null,
            "min_height": null,
            "min_width": null,
            "object_fit": null,
            "object_position": null,
            "order": null,
            "overflow": null,
            "overflow_x": null,
            "overflow_y": null,
            "padding": null,
            "right": null,
            "top": null,
            "visibility": null,
            "width": null
          }
        },
        "24e2c87ccabf497d8381aa8e519aa139": {
          "model_module": "@jupyter-widgets/controls",
          "model_name": "ProgressStyleModel",
          "model_module_version": "1.5.0",
          "state": {
            "_model_module": "@jupyter-widgets/controls",
            "_model_module_version": "1.5.0",
            "_model_name": "ProgressStyleModel",
            "_view_count": null,
            "_view_module": "@jupyter-widgets/base",
            "_view_module_version": "1.2.0",
            "_view_name": "StyleView",
            "bar_color": null,
            "description_width": ""
          }
        },
        "ec54c0e848244edc8041e67f2d839a76": {
          "model_module": "@jupyter-widgets/base",
          "model_name": "LayoutModel",
          "model_module_version": "1.2.0",
          "state": {
            "_model_module": "@jupyter-widgets/base",
            "_model_module_version": "1.2.0",
            "_model_name": "LayoutModel",
            "_view_count": null,
            "_view_module": "@jupyter-widgets/base",
            "_view_module_version": "1.2.0",
            "_view_name": "LayoutView",
            "align_content": null,
            "align_items": null,
            "align_self": null,
            "border": null,
            "bottom": null,
            "display": null,
            "flex": null,
            "flex_flow": null,
            "grid_area": null,
            "grid_auto_columns": null,
            "grid_auto_flow": null,
            "grid_auto_rows": null,
            "grid_column": null,
            "grid_gap": null,
            "grid_row": null,
            "grid_template_areas": null,
            "grid_template_columns": null,
            "grid_template_rows": null,
            "height": null,
            "justify_content": null,
            "justify_items": null,
            "left": null,
            "margin": null,
            "max_height": null,
            "max_width": null,
            "min_height": null,
            "min_width": null,
            "object_fit": null,
            "object_position": null,
            "order": null,
            "overflow": null,
            "overflow_x": null,
            "overflow_y": null,
            "padding": null,
            "right": null,
            "top": null,
            "visibility": null,
            "width": null
          }
        },
        "37ac3288e5fd42218495fb63f62b1bba": {
          "model_module": "@jupyter-widgets/controls",
          "model_name": "DescriptionStyleModel",
          "model_module_version": "1.5.0",
          "state": {
            "_model_module": "@jupyter-widgets/controls",
            "_model_module_version": "1.5.0",
            "_model_name": "DescriptionStyleModel",
            "_view_count": null,
            "_view_module": "@jupyter-widgets/base",
            "_view_module_version": "1.2.0",
            "_view_name": "StyleView",
            "description_width": ""
          }
        }
      }
    }
  },
  "cells": [
    {
      "cell_type": "markdown",
      "metadata": {
        "id": "view-in-github",
        "colab_type": "text"
      },
      "source": [
        "<a href=\"https://colab.research.google.com/github/Hamza-t/Language-Identification/blob/main/Data_modeling.ipynb\" target=\"_parent\"><img src=\"https://colab.research.google.com/assets/colab-badge.svg\" alt=\"Open In Colab\"/></a>"
      ]
    },
    {
      "cell_type": "markdown",
      "source": [
        "#Hello!\n",
        "In this notebook, we will apply the AI stuff to our data to predict the langage of the text.\n",
        "*   Our task is a text multilabel classification, there is many methods :\n",
        "1.  the old-fashioned Bag-of-Words (with Tf-Idf or countvector)\n",
        "2.  the famous Word Embedding (with Word2Vec)\n",
        "3.  the cutting edge Language models (with BERT).\n",
        "\n",
        "\n",
        "**In this notebook, we will use the first and the third methods**\n",
        "\n",
        "**The general process :**\n",
        "![image.png](data:image/png;base64,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)"
      ],
      "metadata": {
        "id": "eMzO2jMWgoff"
      }
    },
    {
      "cell_type": "code",
      "execution_count": null,
      "metadata": {
        "id": "0gVO0m6jgcjQ"
      },
      "outputs": [],
      "source": []
    },
    {
      "cell_type": "code",
      "source": [
        "#Import data file \n",
        "#drive mount\n",
        "from google.colab import drive\n",
        "drive.mount('/content/drive')"
      ],
      "metadata": {
        "colab": {
          "base_uri": "https://localhost:8080/"
        },
        "id": "w-pXo72Sg0MG",
        "outputId": "6909bdd8-cf16-4c46-e1fe-208e94a66af3"
      },
      "execution_count": null,
      "outputs": [
        {
          "output_type": "stream",
          "name": "stdout",
          "text": [
            "Mounted at /content/drive\n"
          ]
        }
      ]
    },
    {
      "cell_type": "code",
      "source": [
        "#verify the path\n",
        "folder_path = \"/content/drive/MyDrive/My_work/NLP-Project-INSAT\"\n",
        "!ls \"/content/drive/MyDrive/My_work/NLP-Project-INSAT\""
      ],
      "metadata": {
        "colab": {
          "base_uri": "https://localhost:8080/"
        },
        "id": "Qs7yKBZ-jBY6",
        "outputId": "9d0e7654-ce9c-4d4d-c5da-8c7bedbbd35d"
      },
      "execution_count": null,
      "outputs": [
        {
          "output_type": "stream",
          "name": "stdout",
          "text": [
            " cleaned_data.csv\t   Data_modeling.ipynb\t     'General Data'\n",
            "'Data augmentation'\t   Data_Preparation.ipynb     model.ipynb\n",
            " Data_Augmentation.ipynb   Data_validation.ipynb      prepared_data.csv\n",
            " Data_cleaning.ipynb\t   Data_visualization.ipynb   to_model_data.csv\n",
            "'data collection '\t   final_data.csv\n"
          ]
        }
      ]
    },
    {
      "cell_type": "code",
      "source": [
        "##assign data path \n",
        "data_path = folder_path + \"/\" + \"to_model_data.csv\""
      ],
      "metadata": {
        "id": "eZhyrBS_jBcW"
      },
      "execution_count": null,
      "outputs": []
    },
    {
      "cell_type": "code",
      "source": [
        "#read data\n",
        "import pandas as pd\n",
        "data = pd.read_csv(data_path)\n",
        "data = data[[\"text\",\"label\"]]\n",
        "data.head()"
      ],
      "metadata": {
        "colab": {
          "base_uri": "https://localhost:8080/",
          "height": 206
        },
        "id": "Hvtnza0JjEkd",
        "outputId": "6fb8dfd3-af91-4b47-d478-ace110e0df89"
      },
      "execution_count": null,
      "outputs": [
        {
          "output_type": "execute_result",
          "data": {
            "text/plain": [
              "                                                text  label\n",
              "0  ana fil ghorba w sout el athan ahla haja aijbi...      3\n",
              "1                           man eheb rasoule mohamed      3\n",
              "2                        rabi yerhmou sofiane chaari      3\n",
              "3     rabi yarahmak ya sbouai wou yarham kol om mita      3\n",
              "4                              merci beaucoup salime      1"
            ],
            "text/html": [
              "\n",
              "  <div id=\"df-d3446ced-699e-4be5-bac7-bfc529fdf5c9\">\n",
              "    <div class=\"colab-df-container\">\n",
              "      <div>\n",
              "<style scoped>\n",
              "    .dataframe tbody tr th:only-of-type {\n",
              "        vertical-align: middle;\n",
              "    }\n",
              "\n",
              "    .dataframe tbody tr th {\n",
              "        vertical-align: top;\n",
              "    }\n",
              "\n",
              "    .dataframe thead th {\n",
              "        text-align: right;\n",
              "    }\n",
              "</style>\n",
              "<table border=\"1\" class=\"dataframe\">\n",
              "  <thead>\n",
              "    <tr style=\"text-align: right;\">\n",
              "      <th></th>\n",
              "      <th>text</th>\n",
              "      <th>label</th>\n",
              "    </tr>\n",
              "  </thead>\n",
              "  <tbody>\n",
              "    <tr>\n",
              "      <th>0</th>\n",
              "      <td>ana fil ghorba w sout el athan ahla haja aijbi...</td>\n",
              "      <td>3</td>\n",
              "    </tr>\n",
              "    <tr>\n",
              "      <th>1</th>\n",
              "      <td>man eheb rasoule mohamed</td>\n",
              "      <td>3</td>\n",
              "    </tr>\n",
              "    <tr>\n",
              "      <th>2</th>\n",
              "      <td>rabi yerhmou sofiane chaari</td>\n",
              "      <td>3</td>\n",
              "    </tr>\n",
              "    <tr>\n",
              "      <th>3</th>\n",
              "      <td>rabi yarahmak ya sbouai wou yarham kol om mita</td>\n",
              "      <td>3</td>\n",
              "    </tr>\n",
              "    <tr>\n",
              "      <th>4</th>\n",
              "      <td>merci beaucoup salime</td>\n",
              "      <td>1</td>\n",
              "    </tr>\n",
              "  </tbody>\n",
              "</table>\n",
              "</div>\n",
              "      <button class=\"colab-df-convert\" onclick=\"convertToInteractive('df-d3446ced-699e-4be5-bac7-bfc529fdf5c9')\"\n",
              "              title=\"Convert this dataframe to an interactive table.\"\n",
              "              style=\"display:none;\">\n",
              "        \n",
              "  <svg xmlns=\"http://www.w3.org/2000/svg\" height=\"24px\"viewBox=\"0 0 24 24\"\n",
              "       width=\"24px\">\n",
              "    <path d=\"M0 0h24v24H0V0z\" fill=\"none\"/>\n",
              "    <path d=\"M18.56 5.44l.94 2.06.94-2.06 2.06-.94-2.06-.94-.94-2.06-.94 2.06-2.06.94zm-11 1L8.5 8.5l.94-2.06 2.06-.94-2.06-.94L8.5 2.5l-.94 2.06-2.06.94zm10 10l.94 2.06.94-2.06 2.06-.94-2.06-.94-.94-2.06-.94 2.06-2.06.94z\"/><path d=\"M17.41 7.96l-1.37-1.37c-.4-.4-.92-.59-1.43-.59-.52 0-1.04.2-1.43.59L10.3 9.45l-7.72 7.72c-.78.78-.78 2.05 0 2.83L4 21.41c.39.39.9.59 1.41.59.51 0 1.02-.2 1.41-.59l7.78-7.78 2.81-2.81c.8-.78.8-2.07 0-2.86zM5.41 20L4 18.59l7.72-7.72 1.47 1.35L5.41 20z\"/>\n",
              "  </svg>\n",
              "      </button>\n",
              "      \n",
              "  <style>\n",
              "    .colab-df-container {\n",
              "      display:flex;\n",
              "      flex-wrap:wrap;\n",
              "      gap: 12px;\n",
              "    }\n",
              "\n",
              "    .colab-df-convert {\n",
              "      background-color: #E8F0FE;\n",
              "      border: none;\n",
              "      border-radius: 50%;\n",
              "      cursor: pointer;\n",
              "      display: none;\n",
              "      fill: #1967D2;\n",
              "      height: 32px;\n",
              "      padding: 0 0 0 0;\n",
              "      width: 32px;\n",
              "    }\n",
              "\n",
              "    .colab-df-convert:hover {\n",
              "      background-color: #E2EBFA;\n",
              "      box-shadow: 0px 1px 2px rgba(60, 64, 67, 0.3), 0px 1px 3px 1px rgba(60, 64, 67, 0.15);\n",
              "      fill: #174EA6;\n",
              "    }\n",
              "\n",
              "    [theme=dark] .colab-df-convert {\n",
              "      background-color: #3B4455;\n",
              "      fill: #D2E3FC;\n",
              "    }\n",
              "\n",
              "    [theme=dark] .colab-df-convert:hover {\n",
              "      background-color: #434B5C;\n",
              "      box-shadow: 0px 1px 3px 1px rgba(0, 0, 0, 0.15);\n",
              "      filter: drop-shadow(0px 1px 2px rgba(0, 0, 0, 0.3));\n",
              "      fill: #FFFFFF;\n",
              "    }\n",
              "  </style>\n",
              "\n",
              "      <script>\n",
              "        const buttonEl =\n",
              "          document.querySelector('#df-d3446ced-699e-4be5-bac7-bfc529fdf5c9 button.colab-df-convert');\n",
              "        buttonEl.style.display =\n",
              "          google.colab.kernel.accessAllowed ? 'block' : 'none';\n",
              "\n",
              "        async function convertToInteractive(key) {\n",
              "          const element = document.querySelector('#df-d3446ced-699e-4be5-bac7-bfc529fdf5c9');\n",
              "          const dataTable =\n",
              "            await google.colab.kernel.invokeFunction('convertToInteractive',\n",
              "                                                     [key], {});\n",
              "          if (!dataTable) return;\n",
              "\n",
              "          const docLinkHtml = 'Like what you see? Visit the ' +\n",
              "            '<a target=\"_blank\" href=https://colab.research.google.com/notebooks/data_table.ipynb>data table notebook</a>'\n",
              "            + ' to learn more about interactive tables.';\n",
              "          element.innerHTML = '';\n",
              "          dataTable['output_type'] = 'display_data';\n",
              "          await google.colab.output.renderOutput(dataTable, element);\n",
              "          const docLink = document.createElement('div');\n",
              "          docLink.innerHTML = docLinkHtml;\n",
              "          element.appendChild(docLink);\n",
              "        }\n",
              "      </script>\n",
              "    </div>\n",
              "  </div>\n",
              "  "
            ]
          },
          "metadata": {},
          "execution_count": 5
        }
      ]
    },
    {
      "cell_type": "code",
      "source": [
        "#return the correct label : the langauge name:\n",
        "def label(x):\n",
        "  if x == 0 : return 'Arabic'\n",
        "  elif x==1 : return 'French'\n",
        "  elif x ==2 : return 'English'\n",
        "  elif x == 3 : return 'Tunizi'\n",
        "  else : return 'CS'"
      ],
      "metadata": {
        "id": "Gc-nBnUCjEnz"
      },
      "execution_count": null,
      "outputs": []
    },
    {
      "cell_type": "markdown",
      "source": [
        "##Using the old-fashioned Bag-of-Words (with Tf-Idf or countvector) 🧯\n",
        "\n",
        "* The text feature extraction methods will be tf-idf and Count-Vectorization\n",
        "* The classifiers will be Stochastic Gradient Descent and naive_bayes"
      ],
      "metadata": {
        "id": "Tqh6RdNSnlVB"
      }
    },
    {
      "cell_type": "code",
      "source": [
        "## for data\n",
        "import pandas as pd\n",
        "import numpy as np\n",
        "## for plotting\n",
        "import matplotlib.pyplot as plt\n",
        "import seaborn as sns\n",
        "## for bag-of-words\n",
        "from sklearn import feature_extraction, model_selection, naive_bayes, pipeline, manifold, preprocessing, linear_model, metrics"
      ],
      "metadata": {
        "id": "zSIMhdijoCJE"
      },
      "execution_count": null,
      "outputs": []
    },
    {
      "cell_type": "code",
      "source": [
        "## split dataset\n",
        "dtf_train, dtf_test = model_selection.train_test_split(data, test_size=0.3)\n",
        "## get target\n",
        "X_train = dtf_train['text'].astype('str').values\n",
        "y_train = dtf_train[\"label\"].values\n",
        "X_test = dtf_test['text'].astype('str').values\n",
        "y_test = dtf_test[\"label\"].values"
      ],
      "metadata": {
        "id": "U_Vo0BHfplI5"
      },
      "execution_count": null,
      "outputs": []
    },
    {
      "cell_type": "code",
      "source": [
        "## Count (classic BoW)\n",
        "count_vectorizer = feature_extraction.text.CountVectorizer(max_features=100000, ngram_range=(1,2), encoding='utf-8')\n",
        "\n",
        "## Tf-Idf (advanced variant of BoW)\n",
        "tf_idf_vectorizer = feature_extraction.text.TfidfVectorizer(max_features=100000, ngram_range=(1,2), encoding='utf-8')"
      ],
      "metadata": {
        "id": "toFP-ARFqOn9"
      },
      "execution_count": null,
      "outputs": []
    },
    {
      "cell_type": "code",
      "source": [
        "NBclassifier = naive_bayes.MultinomialNB()\n",
        "SGDclassifer = linear_model.SGDClassifier(loss=\"modified_huber\")"
      ],
      "metadata": {
        "id": "rl_Qn8UZqa__"
      },
      "execution_count": null,
      "outputs": []
    },
    {
      "cell_type": "code",
      "source": [],
      "metadata": {
        "id": "ysqZNwPNqy9j"
      },
      "execution_count": null,
      "outputs": []
    },
    {
      "cell_type": "markdown",
      "source": [
        "###A- Count vectorizer"
      ],
      "metadata": {
        "id": "c-fF8eFUq_BY"
      }
    },
    {
      "cell_type": "code",
      "source": [
        "corpus = dtf_train[\"text\"].astype('str').values\n",
        "count_vectorizer.fit(corpus)\n",
        "X_train = count_vectorizer.transform(corpus)\n",
        "dic_vocabulary = count_vectorizer.vocabulary_"
      ],
      "metadata": {
        "id": "1kKVABy9rFBD"
      },
      "execution_count": null,
      "outputs": []
    },
    {
      "cell_type": "markdown",
      "source": [
        "#####1- Naive bayes"
      ],
      "metadata": {
        "id": "o0rmaFrYrcGU"
      }
    },
    {
      "cell_type": "code",
      "source": [
        "## pipeline\n",
        "model = pipeline.Pipeline([(\"vectorizer\", count_vectorizer),  \n",
        "                           (\"classifier\", NBclassifier)])  \n",
        "## train classifier\n",
        "model[\"classifier\"].fit(X_train, y_train)\n",
        "## test\n",
        "X_test = dtf_test[\"text\"].values\n",
        "predicted = model.predict(X_test)\n",
        "predicted_prob = model.predict_proba(X_test)"
      ],
      "metadata": {
        "id": "ybmMfb4VrRPe"
      },
      "execution_count": null,
      "outputs": []
    },
    {
      "cell_type": "code",
      "source": [
        "classes = np.unique(y_test)\n",
        "y_test_array = pd.get_dummies(y_test, drop_first=False).values\n",
        "\n",
        "## Accuracy, Precision, Recall\n",
        "accuracy = metrics.accuracy_score(y_test, predicted)\n",
        "auc = metrics.roc_auc_score(y_test, predicted_prob, \n",
        "                            multi_class=\"ovr\")\n",
        "print(\"Accuracy:\",  round(accuracy,2))\n",
        "print(\"Auc:\", round(auc,2))\n",
        "print(\"Detail:\")\n",
        "print(metrics.classification_report(y_test, predicted))\n",
        "    \n",
        "## Plot confusion matrix\n",
        "cm = metrics.confusion_matrix(y_test, predicted)\n",
        "fig, ax = plt.subplots()\n",
        "sns.heatmap(cm, annot=True, fmt='d', ax=ax, cmap=plt.cm.Blues, \n",
        "            cbar=False)\n",
        "ax.set(xlabel=\"Pred\", ylabel=\"True\", xticklabels=classes, \n",
        "       yticklabels=classes, title=\"Confusion matrix\")\n",
        "plt.yticks(rotation=0)\n",
        "\n",
        "fig, ax = plt.subplots(nrows=1, ncols=2)\n",
        "## Plot roc\n",
        "for i in range(len(classes)):\n",
        "    fpr, tpr, thresholds = metrics.roc_curve(y_test_array[:,i],  \n",
        "                           predicted_prob[:,i])\n",
        "    ax[0].plot(fpr, tpr, lw=3, \n",
        "              label='{0} (area={1:0.2f})'.format(classes[i], \n",
        "                              metrics.auc(fpr, tpr))\n",
        "               )\n",
        "ax[0].plot([0,1], [0,1], color='navy', lw=3, linestyle='--')\n",
        "ax[0].set(xlim=[-0.05,1.0], ylim=[0.0,1.05], \n",
        "          xlabel='False Positive Rate', \n",
        "          ylabel=\"True Positive Rate (Recall)\", \n",
        "          title=\"Receiver operating characteristic\")\n",
        "ax[0].legend(loc=\"lower right\")\n",
        "ax[0].grid(True)\n",
        "    \n",
        "## Plot precision-recall curve\n",
        "for i in range(len(classes)):\n",
        "    precision, recall, thresholds = metrics.precision_recall_curve(\n",
        "                 y_test_array[:,i], predicted_prob[:,i])\n",
        "    ax[1].plot(recall, precision, lw=3, \n",
        "               label='{0} (area={1:0.2f})'.format(classes[i], \n",
        "                                  metrics.auc(recall, precision))\n",
        "              )\n",
        "ax[1].set(xlim=[0.0,1.05], ylim=[0.0,1.05], xlabel='Recall', \n",
        "          ylabel=\"Precision\", title=\"Precision-Recall curve\")\n",
        "ax[1].legend(loc=\"best\")\n",
        "ax[1].grid(True)\n",
        "plt.show()"
      ],
      "metadata": {
        "colab": {
          "base_uri": "https://localhost:8080/",
          "height": 833
        },
        "id": "zA3nfaW9rpa8",
        "outputId": "ebce2c40-9ceb-4925-875d-83220901587d"
      },
      "execution_count": null,
      "outputs": [
        {
          "output_type": "stream",
          "name": "stdout",
          "text": [
            "Accuracy: 0.9\n",
            "Auc: 0.97\n",
            "Detail:\n",
            "              precision    recall  f1-score   support\n",
            "\n",
            "           0       0.98      0.96      0.97      1236\n",
            "           1       0.91      0.92      0.92      1190\n",
            "           2       0.96      1.00      0.98      1097\n",
            "           3       0.84      0.93      0.88      1313\n",
            "           4       0.71      0.54      0.61       750\n",
            "\n",
            "    accuracy                           0.90      5586\n",
            "   macro avg       0.88      0.87      0.87      5586\n",
            "weighted avg       0.89      0.90      0.89      5586\n",
            "\n"
          ]
        },
        {
          "output_type": "display_data",
          "data": {
            "text/plain": [
              "<Figure size 432x288 with 1 Axes>"
            ],
            "image/png": "[encoded data removed]"
          },
          "metadata": {
            "needs_background": "light"
          }
        },
        {
          "output_type": "display_data",
          "data": {
            "text/plain": [
              "<Figure size 432x288 with 2 Axes>"
            ],
            "image/png": "[encoded data removed]"
          },
          "metadata": {
            "needs_background": "light"
          }
        }
      ]
    },
    {
      "cell_type": "markdown",
      "source": [
        "#####2- Stochastic Gradient Descent"
      ],
      "metadata": {
        "id": "nNUf21-stc4f"
      }
    },
    {
      "cell_type": "code",
      "source": [
        "## pipeline\n",
        "model = pipeline.Pipeline([(\"vectorizer\", count_vectorizer),  \n",
        "                           (\"classifier\", SGDclassifer)])  \n",
        "## train classifier\n",
        "model[\"classifier\"].fit(X_train, y_train)\n",
        "## test\n",
        "X_test = dtf_test[\"text\"].values\n",
        "predicted = model.predict(X_test)\n",
        "predicted_prob = model.predict_proba(X_test)"
      ],
      "metadata": {
        "id": "zhgcVVMqtgq-"
      },
      "execution_count": null,
      "outputs": []
    },
    {
      "cell_type": "code",
      "source": [
        "classes = np.unique(y_test)\n",
        "y_test_array = pd.get_dummies(y_test, drop_first=False).values\n",
        "\n",
        "## Accuracy, Precision, Recall\n",
        "accuracy = metrics.accuracy_score(y_test, predicted)\n",
        "auc = metrics.roc_auc_score(y_test, predicted_prob, \n",
        "                            multi_class=\"ovr\")\n",
        "print(\"Accuracy:\",  round(accuracy,2))\n",
        "print(\"Auc:\", round(auc,2))\n",
        "print(\"Detail:\")\n",
        "print(metrics.classification_report(y_test, predicted))\n",
        "    \n",
        "## Plot confusion matrix\n",
        "cm = metrics.confusion_matrix(y_test, predicted)\n",
        "fig, ax = plt.subplots()\n",
        "sns.heatmap(cm, annot=True, fmt='d', ax=ax, cmap=plt.cm.Blues, \n",
        "            cbar=False)\n",
        "ax.set(xlabel=\"Pred\", ylabel=\"True\", xticklabels=classes, \n",
        "       yticklabels=classes, title=\"Confusion matrix\")\n",
        "plt.yticks(rotation=0)\n",
        "\n",
        "fig, ax = plt.subplots(nrows=1, ncols=2)\n",
        "## Plot roc\n",
        "for i in range(len(classes)):\n",
        "    fpr, tpr, thresholds = metrics.roc_curve(y_test_array[:,i],  \n",
        "                           predicted_prob[:,i])\n",
        "    ax[0].plot(fpr, tpr, lw=3, \n",
        "              label='{0} (area={1:0.2f})'.format(classes[i], \n",
        "                              metrics.auc(fpr, tpr))\n",
        "               )\n",
        "ax[0].plot([0,1], [0,1], color='navy', lw=3, linestyle='--')\n",
        "ax[0].set(xlim=[-0.05,1.0], ylim=[0.0,1.05], \n",
        "          xlabel='False Positive Rate', \n",
        "          ylabel=\"True Positive Rate (Recall)\", \n",
        "          title=\"Receiver operating characteristic\")\n",
        "ax[0].legend(loc=\"lower right\")\n",
        "ax[0].grid(True)\n",
        "    \n",
        "## Plot precision-recall curve\n",
        "for i in range(len(classes)):\n",
        "    precision, recall, thresholds = metrics.precision_recall_curve(\n",
        "                 y_test_array[:,i], predicted_prob[:,i])\n",
        "    ax[1].plot(recall, precision, lw=3, \n",
        "               label='{0} (area={1:0.2f})'.format(classes[i], \n",
        "                                  metrics.auc(recall, precision))\n",
        "              )\n",
        "ax[1].set(xlim=[0.0,1.05], ylim=[0.0,1.05], xlabel='Recall', \n",
        "          ylabel=\"Precision\", title=\"Precision-Recall curve\")\n",
        "ax[1].legend(loc=\"best\")\n",
        "ax[1].grid(True)\n",
        "plt.show()"
      ],
      "metadata": {
        "colab": {
          "base_uri": "https://localhost:8080/",
          "height": 833
        },
        "id": "6OegRK7htqN6",
        "outputId": "b71b49b6-a50f-46db-959a-7f5f1ea9fb5d"
      },
      "execution_count": null,
      "outputs": [
        {
          "output_type": "stream",
          "name": "stdout",
          "text": [
            "Accuracy: 0.9\n",
            "Auc: 0.97\n",
            "Detail:\n",
            "              precision    recall  f1-score   support\n",
            "\n",
            "           0       0.97      0.96      0.97      1236\n",
            "           1       0.89      0.98      0.93      1190\n",
            "           2       0.96      0.99      0.98      1097\n",
            "           3       0.86      0.88      0.87      1313\n",
            "           4       0.75      0.60      0.67       750\n",
            "\n",
            "    accuracy                           0.90      5586\n",
            "   macro avg       0.89      0.88      0.88      5586\n",
            "weighted avg       0.90      0.90      0.90      5586\n",
            "\n"
          ]
        },
        {
          "output_type": "display_data",
          "data": {
            "text/plain": [
              "<Figure size 432x288 with 1 Axes>"
            ],
            "image/png": "[encoded data removed]"
          },
          "metadata": {
            "needs_background": "light"
          }
        },
        {
          "output_type": "display_data",
          "data": {
            "text/plain": [
              "<Figure size 432x288 with 2 Axes>"
            ],
            "image/png": "[encoded data removed]"
          },
          "metadata": {
            "needs_background": "light"
          }
        }
      ]
    },
    {
      "cell_type": "code",
      "source": [],
      "metadata": {
        "id": "FIVRfkbwtvLj"
      },
      "execution_count": null,
      "outputs": []
    },
    {
      "cell_type": "markdown",
      "source": [
        "###B- Tf-idf Vectorizer"
      ],
      "metadata": {
        "id": "cR49Xt5It863"
      }
    },
    {
      "cell_type": "code",
      "source": [
        "corpus = dtf_train[\"text\"].astype('str').values\n",
        "tf_idf_vectorizer.fit(corpus)\n",
        "X_train = tf_idf_vectorizer.transform(corpus)\n",
        "dic_vocabulary = tf_idf_vectorizer.vocabulary_"
      ],
      "metadata": {
        "id": "PJ0bMp23uBpg"
      },
      "execution_count": null,
      "outputs": []
    },
    {
      "cell_type": "markdown",
      "source": [
        "#####1- Naive bayes"
      ],
      "metadata": {
        "id": "e7ZUKmvZuJgu"
      }
    },
    {
      "cell_type": "code",
      "source": [
        "## pipeline\n",
        "model = pipeline.Pipeline([(\"vectorizer\", tf_idf_vectorizer),  \n",
        "                           (\"classifier\", NBclassifier)])  \n",
        "## train classifier\n",
        "model[\"classifier\"].fit(X_train, y_train)\n",
        "## test\n",
        "X_test = dtf_test[\"text\"].values\n",
        "predicted = model.predict(X_test)\n",
        "predicted_prob = model.predict_proba(X_test)"
      ],
      "metadata": {
        "id": "0JNZWYcDuIaj"
      },
      "execution_count": null,
      "outputs": []
    },
    {
      "cell_type": "code",
      "source": [
        "classes = np.unique(y_test)\n",
        "y_test_array = pd.get_dummies(y_test, drop_first=False).values\n",
        "\n",
        "## Accuracy, Precision, Recall\n",
        "accuracy = metrics.accuracy_score(y_test, predicted)\n",
        "auc = metrics.roc_auc_score(y_test, predicted_prob, \n",
        "                            multi_class=\"ovr\")\n",
        "print(\"Accuracy:\",  round(accuracy,2))\n",
        "print(\"Auc:\", round(auc,2))\n",
        "print(\"Detail:\")\n",
        "print(metrics.classification_report(y_test, predicted))\n",
        "    \n",
        "## Plot confusion matrix\n",
        "cm = metrics.confusion_matrix(y_test, predicted)\n",
        "fig, ax = plt.subplots()\n",
        "sns.heatmap(cm, annot=True, fmt='d', ax=ax, cmap=plt.cm.Blues, \n",
        "            cbar=False)\n",
        "ax.set(xlabel=\"Pred\", ylabel=\"True\", xticklabels=classes, \n",
        "       yticklabels=classes, title=\"Confusion matrix\")\n",
        "plt.yticks(rotation=0)\n",
        "\n",
        "fig, ax = plt.subplots(nrows=1, ncols=2)\n",
        "## Plot roc\n",
        "for i in range(len(classes)):\n",
        "    fpr, tpr, thresholds = metrics.roc_curve(y_test_array[:,i],  \n",
        "                           predicted_prob[:,i])\n",
        "    ax[0].plot(fpr, tpr, lw=3, \n",
        "              label='{0} (area={1:0.2f})'.format(classes[i], \n",
        "                              metrics.auc(fpr, tpr))\n",
        "               )\n",
        "ax[0].plot([0,1], [0,1], color='navy', lw=3, linestyle='--')\n",
        "ax[0].set(xlim=[-0.05,1.0], ylim=[0.0,1.05], \n",
        "          xlabel='False Positive Rate', \n",
        "          ylabel=\"True Positive Rate (Recall)\", \n",
        "          title=\"Receiver operating characteristic\")\n",
        "ax[0].legend(loc=\"lower right\")\n",
        "ax[0].grid(True)\n",
        "    \n",
        "## Plot precision-recall curve\n",
        "for i in range(len(classes)):\n",
        "    precision, recall, thresholds = metrics.precision_recall_curve(\n",
        "                 y_test_array[:,i], predicted_prob[:,i])\n",
        "    ax[1].plot(recall, precision, lw=3, \n",
        "               label='{0} (area={1:0.2f})'.format(classes[i], \n",
        "                                  metrics.auc(recall, precision))\n",
        "              )\n",
        "ax[1].set(xlim=[0.0,1.05], ylim=[0.0,1.05], xlabel='Recall', \n",
        "          ylabel=\"Precision\", title=\"Precision-Recall curve\")\n",
        "ax[1].legend(loc=\"best\")\n",
        "ax[1].grid(True)\n",
        "plt.show()"
      ],
      "metadata": {
        "colab": {
          "base_uri": "https://localhost:8080/",
          "height": 833
        },
        "id": "64Hjtt46ubFa",
        "outputId": "678efe0b-6d8b-4604-f5de-8e841a557d94"
      },
      "execution_count": null,
      "outputs": [
        {
          "output_type": "stream",
          "name": "stdout",
          "text": [
            "Accuracy: 0.9\n",
            "Auc: 0.97\n",
            "Detail:\n",
            "              precision    recall  f1-score   support\n",
            "\n",
            "           0       0.97      0.97      0.97      1236\n",
            "           1       0.88      0.97      0.93      1190\n",
            "           2       0.95      1.00      0.97      1097\n",
            "           3       0.81      0.98      0.88      1313\n",
            "           4       0.93      0.35      0.50       750\n",
            "\n",
            "    accuracy                           0.90      5586\n",
            "   macro avg       0.91      0.85      0.85      5586\n",
            "weighted avg       0.90      0.90      0.88      5586\n",
            "\n"
          ]
        },
        {
          "output_type": "display_data",
          "data": {
            "text/plain": [
              "<Figure size 432x288 with 1 Axes>"
            ],
            "image/png": "[encoded data removed]"
          },
          "metadata": {
            "needs_background": "light"
          }
        },
        {
          "output_type": "display_data",
          "data": {
            "text/plain": [
              "<Figure size 432x288 with 2 Axes>"
            ],
            "image/png": "[encoded data removed]"
          },
          "metadata": {
            "needs_background": "light"
          }
        }
      ]
    },
    {
      "cell_type": "code",
      "source": [],
      "metadata": {
        "id": "QZzuQUSNvG99"
      },
      "execution_count": null,
      "outputs": []
    },
    {
      "cell_type": "markdown",
      "source": [
        "#####2- Stochastic Gradient Descent"
      ],
      "metadata": {
        "id": "la--EqFkvTqa"
      }
    },
    {
      "cell_type": "code",
      "source": [
        "## pipeline\n",
        "model = pipeline.Pipeline([(\"vectorizer\", tf_idf_vectorizer),  \n",
        "                           (\"classifier\", SGDclassifer)])  \n",
        "## train classifier\n",
        "model[\"classifier\"].fit(X_train, y_train)\n",
        "## test\n",
        "X_test = dtf_test[\"text\"].values\n",
        "predicted = model.predict(X_test)\n",
        "predicted_prob = model.predict_proba(X_test)"
      ],
      "metadata": {
        "id": "ENUhERV7vd7G"
      },
      "execution_count": null,
      "outputs": []
    },
    {
      "cell_type": "code",
      "source": [
        "classes = np.unique(y_test)\n",
        "y_test_array = pd.get_dummies(y_test, drop_first=False).values\n",
        "\n",
        "## Accuracy, Precision, Recall\n",
        "accuracy = metrics.accuracy_score(y_test, predicted)\n",
        "auc = metrics.roc_auc_score(y_test, predicted_prob, \n",
        "                            multi_class=\"ovr\")\n",
        "print(\"Accuracy:\",  round(accuracy,2))\n",
        "print(\"Auc:\", round(auc,2))\n",
        "print(\"Detail:\")\n",
        "print(metrics.classification_report(y_test, predicted))\n",
        "    \n",
        "## Plot confusion matrix\n",
        "cm = metrics.confusion_matrix(y_test, predicted)\n",
        "fig, ax = plt.subplots()\n",
        "sns.heatmap(cm, annot=True, fmt='d', ax=ax, cmap=plt.cm.Blues, \n",
        "            cbar=False)\n",
        "ax.set(xlabel=\"Pred\", ylabel=\"True\", xticklabels=classes, \n",
        "       yticklabels=classes, title=\"Confusion matrix\")\n",
        "plt.yticks(rotation=0)\n",
        "\n",
        "fig, ax = plt.subplots(nrows=1, ncols=2)\n",
        "## Plot roc\n",
        "for i in range(len(classes)):\n",
        "    fpr, tpr, thresholds = metrics.roc_curve(y_test_array[:,i],  \n",
        "                           predicted_prob[:,i])\n",
        "    ax[0].plot(fpr, tpr, lw=3, \n",
        "              label='{0} (area={1:0.2f})'.format(classes[i], \n",
        "                              metrics.auc(fpr, tpr))\n",
        "               )\n",
        "ax[0].plot([0,1], [0,1], color='navy', lw=3, linestyle='--')\n",
        "ax[0].set(xlim=[-0.05,1.0], ylim=[0.0,1.05], \n",
        "          xlabel='False Positive Rate', \n",
        "          ylabel=\"True Positive Rate (Recall)\", \n",
        "          title=\"Receiver operating characteristic\")\n",
        "ax[0].legend(loc=\"lower right\")\n",
        "ax[0].grid(True)\n",
        "    \n",
        "## Plot precision-recall curve\n",
        "for i in range(len(classes)):\n",
        "    precision, recall, thresholds = metrics.precision_recall_curve(\n",
        "                 y_test_array[:,i], predicted_prob[:,i])\n",
        "    ax[1].plot(recall, precision, lw=3, \n",
        "               label='{0} (area={1:0.2f})'.format(classes[i], \n",
        "                                  metrics.auc(recall, precision))\n",
        "              )\n",
        "ax[1].set(xlim=[0.0,1.05], ylim=[0.0,1.05], xlabel='Recall', \n",
        "          ylabel=\"Precision\", title=\"Precision-Recall curve\")\n",
        "ax[1].legend(loc=\"best\")\n",
        "ax[1].grid(True)\n",
        "plt.show()"
      ],
      "metadata": {
        "colab": {
          "base_uri": "https://localhost:8080/",
          "height": 833
        },
        "id": "RvZwaARIvns8",
        "outputId": "642e6e7b-11da-4664-8750-5c89604558a2"
      },
      "execution_count": null,
      "outputs": [
        {
          "output_type": "stream",
          "name": "stdout",
          "text": [
            "Accuracy: 0.91\n",
            "Auc: 0.98\n",
            "Detail:\n",
            "              precision    recall  f1-score   support\n",
            "\n",
            "           0       0.97      0.96      0.96      1236\n",
            "           1       0.93      0.97      0.95      1190\n",
            "           2       0.98      0.99      0.98      1097\n",
            "           3       0.83      0.93      0.87      1313\n",
            "           4       0.81      0.59      0.68       750\n",
            "\n",
            "    accuracy                           0.91      5586\n",
            "   macro avg       0.90      0.89      0.89      5586\n",
            "weighted avg       0.91      0.91      0.91      5586\n",
            "\n"
          ]
        },
        {
          "output_type": "display_data",
          "data": {
            "text/plain": [
              "<Figure size 432x288 with 1 Axes>"
            ],
            "image/png": "[encoded data removed]"
          },
          "metadata": {
            "needs_background": "light"
          }
        },
        {
          "output_type": "display_data",
          "data": {
            "text/plain": [
              "<Figure size 432x288 with 2 Axes>"
            ],
            "image/png": "[encoded data removed]"
          },
          "metadata": {
            "needs_background": "light"
          }
        }
      ]
    },
    {
      "cell_type": "code",
      "source": [],
      "metadata": {
        "id": "BrW5Ckefvpba"
      },
      "execution_count": null,
      "outputs": []
    },
    {
      "cell_type": "code",
      "source": [],
      "metadata": {
        "id": "6aN2YxTxwfys"
      },
      "execution_count": null,
      "outputs": []
    },
    {
      "cell_type": "markdown",
      "source": [
        "##Using the cutting edge Language models (with BERT) 🙂\n",
        "\n",
        "* In order to complete a text classification task, you can use BERT in 3 different ways:\n",
        "\n",
        "1. train it all from scratches and use it as classifier.\n",
        "2. Extract the word embeddings and use them in an embedding layer (like I did with Word2Vec).\n",
        "3. Fine-tuning the pre-trained model (transfer learning).\n",
        "\n",
        "**We are going with the latter and do transfer learning from a pre-trained lighter version of BERT, called Distil-BERT (66 million of parameters instead of 110 million!).**\n",
        "\n",
        "* Then! we will going to build the deep learning model with transfer learning from the pre-trained BERT. Basically, we will going to summarize the output of BERT into one vector with Average Pooling and then add two final Dense layers to predict the probability of each langages."
      ],
      "metadata": {
        "id": "BoMpF73vwgEY"
      }
    },
    {
      "cell_type": "code",
      "source": [
        "!pip install transformers"
      ],
      "metadata": {
        "colab": {
          "base_uri": "https://localhost:8080/"
        },
        "id": "8zcv5n0Axy4U",
        "outputId": "3792baf6-6f44-4e14-de27-058d91606c47"
      },
      "execution_count": null,
      "outputs": [
        {
          "output_type": "stream",
          "name": "stdout",
          "text": [
            "Successfully installed huggingface-hub-0.11.1 tokenizers-0.13.2 transformers-4.25.1\n"
          ]
        }
      ]
    },
    {
      "cell_type": "code",
      "source": [
        "import warnings\n",
        "warnings.filterwarnings(\"ignore\")"
      ],
      "metadata": {
        "id": "CZgB2OCIzE0k"
      },
      "execution_count": null,
      "outputs": []
    },
    {
      "cell_type": "code",
      "source": [
        "## split dataset\n",
        "dtf_train, dtf_test = model_selection.train_test_split(data, test_size=0.3)\n",
        "## get target\n",
        "X_train = dtf_train['text'].astype('str').values\n",
        "y_train = dtf_train[\"label\"].values\n",
        "X_test = dtf_test['text'].astype('str').values\n",
        "y_test = dtf_test[\"label\"].values"
      ],
      "metadata": {
        "id": "fvEEoOoeyMGN"
      },
      "execution_count": null,
      "outputs": []
    },
    {
      "cell_type": "code",
      "source": [
        "import transformers\n",
        "from tensorflow.keras import models, layers, preprocessing as kprocessing\n",
        "from tensorflow.keras import backend as K"
      ],
      "metadata": {
        "id": "DGLRyF4Ex8QT"
      },
      "execution_count": null,
      "outputs": []
    },
    {
      "cell_type": "code",
      "source": [
        "## distil-bert tokenizer\n",
        "tokenizer = transformers.AutoTokenizer.from_pretrained('distilbert-base-uncased', do_lower_case=True)"
      ],
      "metadata": {
        "colab": {
          "base_uri": "https://localhost:8080/",
          "height": 145,
          "referenced_widgets": [
            "def043bec0274b3cbed3b1a2575c219a",
            "895d13ad5b4049e3b1b3d84852650821",
            "3ecabfd9a0e04b3b8f5242b05ef256db",
            "a36d57cc5a644198bfb4b2385a887df4",
            "ff4ac2b227694527abdd5746113bb157",
            "601a6286c4984e14aacd8dffe6bb3be7",
            "9276974d56604a4ab29af2aee4b5ec19",
            "4450ffa2c25b40f08fa503bbfe9cd619",
            "9ca63a3caf8944c79e2a4eadd118c009",
            "2f66b5e6cafa46bf9bd6ab36a138e52d",
            "faa4a5bf9388460e9b85239f0612f1cc",
            "1ac77ce643a842dc87280b70f0614799",
            "3c114163140c4c17a6239640e63cdab8",
            "38829b35efe1435a994bb4ff7dc22da7",
            "e28fa3a47f4c43f9aad53dbf11cbb92f",
            "5856d62393e5454198269ba07b979f41",
            "283a639a198443d1bdf9ee71150fe2d6",
            "a5ce06e6accf47fe90af998d73970d0e",
            "153f3b815f0d4f3ca48ba372abae23b3",
            "dca4004c83304896af2abc743a32834d",
            "6c590f96f4b74d1da3d67c805a6be049",
            "30631d3853984779b30f9fa41f0e3e3f",
            "1c51cbec2f514fb99ac9c955bdc4bc70",
            "94bbc0b1fff8476ca53cc5122dc86ce3",
            "bd78e1b3203743589e7de211bedecf87",
            "d8c320c4c56541cfbd5f9aaf21b0c568",
            "474ea0a9301a449f9ba33ee1a9775c9d",
            "e27c21c68d044b3698de08b16d5cfdfc",
            "d10f5e86545241f79947bc110dfcd124",
            "345b54b5372842ae998a4003f804ade6",
            "2f649c630d0444b4b8642e12da814edf",
            "f298d378937c418896c4cadd8cdd7ac7",
            "2dd5a0639de049428d402b54a61b99c6",
            "c5ebcb290e8749fb95dd9d0dcdbe1066",
            "0929a71ce2034337be57c7238fa08ffe",
            "2c7bc1bdd89047c8a6d6090232cfcf72",
            "454f1b850c914337b6fb4d7a5a99af0e",
            "d4cef1d536fe462b9d171b6013e5a9f3",
            "5c987ceeae534809a7414d04f89f00f1",
            "97f8ac15684a4b328e3458c7d3cd886e",
            "58b747fc13fd4e0b94ef8df59368f366",
            "24e2c87ccabf497d8381aa8e519aa139",
            "ec54c0e848244edc8041e67f2d839a76",
            "37ac3288e5fd42218495fb63f62b1bba"
          ]
        },
        "id": "63pfIW4myDGT",
        "outputId": "baf4e11e-3f18-4c15-fdb4-7586f669da44"
      },
      "execution_count": null,
      "outputs": [
        {
          "output_type": "display_data",
          "data": {
            "text/plain": [
              "Downloading:   0%|          | 0.00/28.0 [00:00<?, ?B/s]"
            ],
            "application/vnd.jupyter.widget-view+json": {
              "version_major": 2,
              "version_minor": 0,
              "model_id": "def043bec0274b3cbed3b1a2575c219a"
            }
          },
          "metadata": {}
        },
        {
          "output_type": "display_data",
          "data": {
            "text/plain": [
              "Downloading:   0%|          | 0.00/483 [00:00<?, ?B/s]"
            ],
            "application/vnd.jupyter.widget-view+json": {
              "version_major": 2,
              "version_minor": 0,
              "model_id": "1ac77ce643a842dc87280b70f0614799"
            }
          },
          "metadata": {}
        },
        {
          "output_type": "display_data",
          "data": {
            "text/plain": [
              "Downloading:   0%|          | 0.00/232k [00:00<?, ?B/s]"
            ],
            "application/vnd.jupyter.widget-view+json": {
              "version_major": 2,
              "version_minor": 0,
              "model_id": "1c51cbec2f514fb99ac9c955bdc4bc70"
            }
          },
          "metadata": {}
        },
        {
          "output_type": "display_data",
          "data": {
            "text/plain": [
              "Downloading:   0%|          | 0.00/466k [00:00<?, ?B/s]"
            ],
            "application/vnd.jupyter.widget-view+json": {
              "version_major": 2,
              "version_minor": 0,
              "model_id": "c5ebcb290e8749fb95dd9d0dcdbe1066"
            }
          },
          "metadata": {}
        }
      ]
    },
    {
      "cell_type": "code",
      "source": [
        "## # generate the input IDs and attention mask in tensor format\n",
        "\n",
        "#The train data \n",
        "\n",
        "idx = []\n",
        "attn_mask = []\n",
        "for i in dtf_train['text']:# Encode the sentence\n",
        "  idx.append(tokenizer.encode_plus(\n",
        "    text=str(i),  # the sentence to be encoded\n",
        "    add_special_tokens=True,  # Add [CLS] and [SEP]\n",
        "    max_length = 64,  # maximum length of a sentence\n",
        "    pad_to_max_length=True,  # Add [PAD]s\n",
        "    #return_attention_mask = True,  # Generate the attention mask\n",
        "    #return_tensors = 'pt',  # ask the function to return PyTorch tensors\n",
        "  )['input_ids'])\n",
        "  attn_mask.append(tokenizer.encode_plus(\n",
        "    text=str(i),  # the sentence to be encoded\n",
        "    add_special_tokens=True,  # Add [CLS] and [SEP]\n",
        "    max_length = 64,  # maximum length of a sentence\n",
        "    pad_to_max_length=True,  # Add [PAD]s\n",
        "    #return_attention_mask = True,  # Generate the attention mask\n",
        "    #return_tensors = 'pt',  # ask the function to return PyTorch tensors\n",
        "  )['attention_mask'])\n",
        "\n",
        "# Get the input IDs and attention mask in tensor format\n",
        "#input_ids = encoded['input_ids']\n",
        "#attn_mask = encoded['attention_mask'] "
      ],
      "metadata": {
        "id": "KvJjPX0VyDbr"
      },
      "execution_count": null,
      "outputs": []
    },
    {
      "cell_type": "code",
      "source": [
        "## feature matrix\n",
        "X_train = [np.asarray(idx, dtype='int32'), \n",
        "           np.asarray(attn_mask, dtype='int32')] "
      ],
      "metadata": {
        "id": "JIQitwhxzMwJ"
      },
      "execution_count": null,
      "outputs": []
    },
    {
      "cell_type": "code",
      "source": [
        "#The test data \n",
        "## # generate the input IDs and attention mask in tensor format \n",
        "\n",
        "idx1 = []\n",
        "attn_mask1 = []\n",
        "for i in dtf_test['text']:# Encode the sentence\n",
        "  idx1.append(tokenizer.encode_plus(\n",
        "    text=str(i),  # the sentence to be encoded\n",
        "    add_special_tokens=True,  # Add [CLS] and [SEP]\n",
        "    max_length = 64,  # maximum length of a sentence\n",
        "    pad_to_max_length=True,  # Add [PAD]s\n",
        "    #return_attention_mask = True,  # Generate the attention mask\n",
        "    #return_tensors = 'pt',  # ask the function to return PyTorch tensors\n",
        "  )['input_ids'])\n",
        "  attn_mask1.append(tokenizer.encode_plus(\n",
        "    text=str(i),  # the sentence to be encoded\n",
        "    add_special_tokens=True,  # Add [CLS] and [SEP]\n",
        "    max_length = 64,  # maximum length of a sentence\n",
        "    pad_to_max_length=True,  # Add [PAD]s\n",
        "    #return_attention_mask = True,  # Generate the attention mask\n",
        "    #return_tensors = 'pt',  # ask the function to return PyTorch tensors\n",
        "  )['attention_mask'])\n",
        "\n"
      ],
      "metadata": {
        "id": "Z9cqufqAyzqO"
      },
      "execution_count": null,
      "outputs": []
    },
    {
      "cell_type": "code",
      "source": [
        "## feature matrix\n",
        "X_test = [np.asarray(idx1, dtype='int32'), \n",
        "           np.asarray(attn_mask1, dtype='int32')] "
      ],
      "metadata": {
        "id": "IVWzjoKhzTDk"
      },
      "execution_count": null,
      "outputs": []
    },
    {
      "cell_type": "code",
      "source": [
        "## inputs\n",
        "idx = layers.Input((64), dtype=\"int32\", name=\"input_idx\")\n",
        "masks = layers.Input((64), dtype=\"int32\", name=\"input_masks\")\n",
        "## pre-trained bert with config\n",
        "config = transformers.DistilBertConfig(dropout=0.2, attention_dropout=0.2)\n",
        "\n",
        "config.output_hidden_states = False\n",
        "\n",
        "nlp = transformers.TFDistilBertModel.from_pretrained('distilbert-base-uncased', config=config)\n",
        "\n",
        "bert_out = nlp(idx, attention_mask=masks)[0]\n",
        "## fine-tuning\n",
        "x = layers.GlobalAveragePooling1D()(bert_out)\n",
        "x = layers.Dense(64, activation=\"relu\")(x)\n",
        "y_out = layers.Dense(len(np.unique(y_train)), \n",
        "                     activation='softmax')(x)\n",
        "## compile\n",
        "model = models.Model([idx, masks], y_out)\n",
        "for layer in model.layers[:3]:\n",
        "    layer.trainable = False\n",
        "model.compile(loss='sparse_categorical_crossentropy', \n",
        "              optimizer='adam', metrics=['accuracy'])\n",
        "model.summary()"
      ],
      "metadata": {
        "colab": {
          "base_uri": "https://localhost:8080/"
        },
        "id": "tyQSGG72zW0S",
        "outputId": "e6a40095-3f1c-4924-fc95-9c479ccd3738"
      },
      "execution_count": null,
      "outputs": [
        {
          "output_type": "stream",
          "name": "stderr",
          "text": [
            "Some layers from the model checkpoint at distilbert-base-uncased were not used when initializing TFDistilBertModel: ['vocab_transform', 'vocab_layer_norm', 'activation_13', 'vocab_projector']\n",
            "- This IS expected if you are initializing TFDistilBertModel from the checkpoint of a model trained on another task or with another architecture (e.g. initializing a BertForSequenceClassification model from a BertForPreTraining model).\n",
            "- This IS NOT expected if you are initializing TFDistilBertModel from the checkpoint of a model that you expect to be exactly identical (initializing a BertForSequenceClassification model from a BertForSequenceClassification model).\n",
            "All the layers of TFDistilBertModel were initialized from the model checkpoint at distilbert-base-uncased.\n",
            "If your task is similar to the task the model of the checkpoint was trained on, you can already use TFDistilBertModel for predictions without further training.\n"
          ]
        },
        {
          "output_type": "stream",
          "name": "stdout",
          "text": [
            "Model: \"model_1\"\n",
            "__________________________________________________________________________________________________\n",
            " Layer (type)                   Output Shape         Param #     Connected to                     \n",
            "==================================================================================================\n",
            " input_idx (InputLayer)         [(None, 64)]         0           []                               \n",
            "                                                                                                  \n",
            " input_masks (InputLayer)       [(None, 64)]         0           []                               \n",
            "                                                                                                  \n",
            " tf_distil_bert_model_1 (TFDist  TFBaseModelOutput(l  66362880   ['input_idx[0][0]',              \n",
            " ilBertModel)                   ast_hidden_state=(N               'input_masks[0][0]']            \n",
            "                                one, 64, 768),                                                    \n",
            "                                 hidden_states=None                                               \n",
            "                                , attentions=None)                                                \n",
            "                                                                                                  \n",
            " global_average_pooling1d_1 (Gl  (None, 768)         0           ['tf_distil_bert_model_1[0][0]'] \n",
            " obalAveragePooling1D)                                                                            \n",
            "                                                                                                  \n",
            " dense_2 (Dense)                (None, 64)           49216       ['global_average_pooling1d_1[0][0\n",
            "                                                                 ]']                              \n",
            "                                                                                                  \n",
            " dense_3 (Dense)                (None, 5)            325         ['dense_2[0][0]']                \n",
            "                                                                                                  \n",
            "==================================================================================================\n",
            "Total params: 66,412,421\n",
            "Trainable params: 49,541\n",
            "Non-trainable params: 66,362,880\n",
            "__________________________________________________________________________________________________\n"
          ]
        }
      ]
    },
    {
      "cell_type": "code",
      "source": [
        "#training \n",
        "training = model.fit(x=X_train, y=y_train, batch_size=32, \n",
        "                     epochs=2, shuffle=True, verbose=1, \n",
        "                     validation_split=0.3)"
      ],
      "metadata": {
        "colab": {
          "base_uri": "https://localhost:8080/"
        },
        "id": "6oghimeCzyye",
        "outputId": "88cf417c-e23b-4da1-8a4a-97dcb3062c10"
      },
      "execution_count": null,
      "outputs": [
        {
          "output_type": "stream",
          "name": "stdout",
          "text": [
            "Epoch 1/2\n",
            "286/286 [==============================] - 1401s 5s/step - loss: 0.2832 - accuracy: 0.9016 - val_loss: 0.2206 - val_accuracy: 0.9105\n",
            "Epoch 2/2\n",
            "286/286 [==============================] - 1375s 5s/step - loss: 0.1864 - accuracy: 0.9282 - val_loss: 0.2006 - val_accuracy: 0.9248\n"
          ]
        }
      ]
    },
    {
      "cell_type": "code",
      "source": [
        "predicted_prob = model.predict(X_test)"
      ],
      "metadata": {
        "colab": {
          "base_uri": "https://localhost:8080/"
        },
        "id": "swvF4RV2z7gH",
        "outputId": "a23e93d6-95bd-45dc-b040-cc991626fd84"
      },
      "execution_count": null,
      "outputs": [
        {
          "output_type": "stream",
          "name": "stdout",
          "text": [
            "175/175 [==============================] - 560s 3s/step\n"
          ]
        }
      ]
    },
    {
      "cell_type": "code",
      "source": [
        "dic_y_mapping = {n:label for n,label in enumerate(np.unique(y_train))}\n",
        "predicted = [dic_y_mapping[np.argmax(pred)] for pred in predicted_prob]"
      ],
      "metadata": {
        "id": "BmB1ruU6_Q8l"
      },
      "execution_count": null,
      "outputs": []
    },
    {
      "cell_type": "code",
      "source": [
        "classes = np.unique(y_test)\n",
        "y_test_array = pd.get_dummies(y_test, drop_first=False).values\n",
        "\n",
        "## Accuracy, Precision, Recall\n",
        "accuracy = metrics.accuracy_score(y_test, predicted)\n",
        "auc = metrics.roc_auc_score(y_test, predicted_prob, \n",
        "                            multi_class=\"ovr\")\n",
        "print(\"Accuracy:\",  round(accuracy,2))\n",
        "print(\"Auc:\", round(auc,2))\n",
        "print(\"Detail:\")\n",
        "print(metrics.classification_report(y_test, predicted))\n",
        "    \n",
        "## Plot confusion matrix\n",
        "cm = metrics.confusion_matrix(y_test, predicted)\n",
        "fig, ax = plt.subplots()\n",
        "sns.heatmap(cm, annot=True, fmt='d', ax=ax, cmap=plt.cm.Blues, \n",
        "            cbar=False)\n",
        "ax.set(xlabel=\"Pred\", ylabel=\"True\", xticklabels=classes, \n",
        "       yticklabels=classes, title=\"Confusion matrix\")\n",
        "plt.yticks(rotation=0)\n",
        "\n",
        "fig, ax = plt.subplots(nrows=1, ncols=2)\n",
        "## Plot roc\n",
        "for i in range(len(classes)):\n",
        "    fpr, tpr, thresholds = metrics.roc_curve(y_test_array[:,i],  \n",
        "                           predicted_prob[:,i])\n",
        "    ax[0].plot(fpr, tpr, lw=3, \n",
        "              label='{0} (area={1:0.2f})'.format(classes[i], \n",
        "                              metrics.auc(fpr, tpr))\n",
        "               )\n",
        "ax[0].plot([0,1], [0,1], color='navy', lw=3, linestyle='--')\n",
        "ax[0].set(xlim=[-0.05,1.0], ylim=[0.0,1.05], \n",
        "          xlabel='False Positive Rate', \n",
        "          ylabel=\"True Positive Rate (Recall)\", \n",
        "          title=\"Receiver operating characteristic\")\n",
        "ax[0].legend(loc=\"lower right\")\n",
        "ax[0].grid(True)\n",
        "    \n",
        "## Plot precision-recall curve\n",
        "for i in range(len(classes)):\n",
        "    precision, recall, thresholds = metrics.precision_recall_curve(\n",
        "                 y_test_array[:,i], predicted_prob[:,i])\n",
        "    ax[1].plot(recall, precision, lw=3, \n",
        "               label='{0} (area={1:0.2f})'.format(classes[i], \n",
        "                                  metrics.auc(recall, precision))\n",
        "              )\n",
        "ax[1].set(xlim=[0.0,1.05], ylim=[0.0,1.05], xlabel='Recall', \n",
        "          ylabel=\"Precision\", title=\"Precision-Recall curve\")\n",
        "ax[1].legend(loc=\"best\")\n",
        "ax[1].grid(True)\n",
        "plt.show()"
      ],
      "metadata": {
        "colab": {
          "base_uri": "https://localhost:8080/",
          "height": 833
        },
        "id": "YqR_eT_3Brbh",
        "outputId": "b8588da1-8346-45b3-f0fd-98c57af715a4"
      },
      "execution_count": null,
      "outputs": [
        {
          "output_type": "stream",
          "name": "stdout",
          "text": [
            "Accuracy: 0.93\n",
            "Auc: 0.99\n",
            "Detail:\n",
            "              precision    recall  f1-score   support\n",
            "\n",
            "           0       0.96      1.00      0.98      1262\n",
            "           1       0.97      0.96      0.96      1140\n",
            "           2       0.99      0.99      0.99      1063\n",
            "           3       0.86      0.97      0.91      1381\n",
            "           4       0.87      0.62      0.72       740\n",
            "\n",
            "    accuracy                           0.93      5586\n",
            "   macro avg       0.93      0.91      0.91      5586\n",
            "weighted avg       0.93      0.93      0.93      5586\n",
            "\n"
          ]
        },
        {
          "output_type": "display_data",
          "data": {
            "text/plain": [
              "<Figure size 432x288 with 1 Axes>"
            ],
            "image/png": "[encoded data removed]"
          },
          "metadata": {
            "needs_background": "light"
          }
        },
        {
          "output_type": "display_data",
          "data": {
            "text/plain": [
              "<Figure size 432x288 with 2 Axes>"
            ],
            "image/png": "[encoded data removed]"
          },
          "metadata": {
            "needs_background": "light"
          }
        }
      ]
    },
    {
      "cell_type": "code",
      "source": [
        "#save the model \n",
        "model.save(\"bert_model_.h5\") "
      ],
      "metadata": {
        "id": "ew8oeEDXEZSL"
      },
      "execution_count": null,
      "outputs": []
    },
    {
      "cell_type": "code",
      "source": [],
      "metadata": {
        "id": "CwTFrLj6BzhY"
      },
      "execution_count": null,
      "outputs": []
    },
    {
      "cell_type": "markdown",
      "source": [
        "## end!"
      ],
      "metadata": {
        "id": "x8yaP9T4CIWs"
      }
    }
  ]
}